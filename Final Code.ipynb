{
 "cells": [
  {
   "cell_type": "markdown",
   "metadata": {},
   "source": [
    "## Introduction:\n",
    "\n",
    "The data set that I am working with is government collected affordable housing data. It is the database associated with the Housing Affordability Data System (HADS). Below are the variables included. "
   ]
  },
  {
   "cell_type": "markdown",
   "metadata": {},
   "source": [
    "- AGE1: Age of head of household\n",
    "- ASSISTED: Assisted Housing\n",
    "- BEDRMS: # of bedrooms in unit\n",
    "- BUILT: Year unit was built \n",
    "- BURDEN: Housing cost as a fraction of income\n",
    "- COSTMED: Housing cost at Median interest\n",
    "- FMR: Fair Market Rent\n",
    "- L80: Low income limit (average)\n",
    "- METRO3: Central city/suburban status\n",
    "- NUNITS: # of units in building\n",
    "- OTHERCOST: Insurance, condo, land rent, or other mobile home fees\n",
    "- OWNRENT: Tenure (adjusted)\n",
    "- PER: # of persons in household\n",
    "- REGION: Census Region\n",
    "- ROOMS: # of room in unit\n",
    "- STRUCTURETYPE: Recoded structure type\n",
    "- TOTSAL: Total Wage Income\n",
    "- TYPE: Structure Type\n",
    "- UTILITY: Monthly utility cost\n",
    "- VALUE: Current Market Value of Unit\n",
    "- ZADEQ: Recoded adequacy of housing\n",
    "- ZINC2: Household Income\n",
    "- ZSHMC: Monthly housing costs\n"
   ]
  },
  {
   "cell_type": "markdown",
   "metadata": {},
   "source": [
    "For this project, I will be cleaning the data, exploring the data, running logistics regressions and the classification models Random Forest and XGBoost. The goal is to answer the question, \"Which of the previous features of affordable housing units make the unit \"affordable\"?"
   ]
  },
  {
   "cell_type": "markdown",
   "metadata": {},
   "source": [
    "Load Packages:"
   ]
  },
  {
   "cell_type": "code",
   "execution_count": 1,
   "metadata": {},
   "outputs": [],
   "source": [
    "import pandas as pd\n",
    "import numpy as np\n",
    "import matplotlib.pyplot as plt\n",
    "from sklearn.model_selection import train_test_split\n",
    "from sklearn.metrics import accuracy_score, confusion_matrix, classification_report\n",
    "from sklearn.tree import DecisionTreeClassifier\n",
    "from sklearn.ensemble import BaggingClassifier, RandomForestClassifier\n",
    "from scipy import stats\n",
    "import seaborn as sns\n",
    "import matplotlib.pyplot as plt\n",
    "import statsmodels.api as sm\n",
    "from statsmodels.formula.api import ols\n",
    "from sklearn.preprocessing import StandardScaler\n",
    "from sklearn.metrics import accuracy_score\n",
    "from sklearn.model_selection import GridSearchCV\n",
    "from sklearn.linear_model import LogisticRegression\n",
    "from sklearn.metrics import roc_curve, auc\n",
    "import warnings\n",
    "warnings.filterwarnings('ignore')\n",
    "%matplotlib inline\n",
    "from imblearn.over_sampling import SMOTE\n",
    "import matplotlib.pyplot as plt\n"
   ]
  },
  {
   "cell_type": "markdown",
   "metadata": {},
   "source": [
    "First, I load the data in and preview it. "
   ]
  },
  {
   "cell_type": "code",
   "execution_count": 2,
   "metadata": {},
   "outputs": [],
   "source": [
    "df = pd.read_csv(\"Housing_Data.csv\")"
   ]
  },
  {
   "cell_type": "code",
   "execution_count": 3,
   "metadata": {},
   "outputs": [
    {
     "data": {
      "text/html": [
       "<div>\n",
       "<style scoped>\n",
       "    .dataframe tbody tr th:only-of-type {\n",
       "        vertical-align: middle;\n",
       "    }\n",
       "\n",
       "    .dataframe tbody tr th {\n",
       "        vertical-align: top;\n",
       "    }\n",
       "\n",
       "    .dataframe thead th {\n",
       "        text-align: right;\n",
       "    }\n",
       "</style>\n",
       "<table border=\"1\" class=\"dataframe\">\n",
       "  <thead>\n",
       "    <tr style=\"text-align: right;\">\n",
       "      <th></th>\n",
       "      <th>AGE1</th>\n",
       "      <th>METRO3</th>\n",
       "      <th>REGION</th>\n",
       "      <th>FMR</th>\n",
       "      <th>L80</th>\n",
       "      <th>BEDRMS</th>\n",
       "      <th>BUILT</th>\n",
       "      <th>TYPE</th>\n",
       "      <th>VALUE</th>\n",
       "      <th>VACANCY</th>\n",
       "      <th>...</th>\n",
       "      <th>ZADEQ</th>\n",
       "      <th>ZSMHC</th>\n",
       "      <th>STRUCTURETYPE</th>\n",
       "      <th>OWNRENT</th>\n",
       "      <th>UTILITY</th>\n",
       "      <th>OTHERCOST</th>\n",
       "      <th>COSTMED</th>\n",
       "      <th>TOTSAL</th>\n",
       "      <th>ASSISTED</th>\n",
       "      <th>BURDEN</th>\n",
       "    </tr>\n",
       "  </thead>\n",
       "  <tbody>\n",
       "    <tr>\n",
       "      <th>0</th>\n",
       "      <td>82</td>\n",
       "      <td>3</td>\n",
       "      <td>1</td>\n",
       "      <td>956</td>\n",
       "      <td>40322</td>\n",
       "      <td>2</td>\n",
       "      <td>2006</td>\n",
       "      <td>1</td>\n",
       "      <td>40000</td>\n",
       "      <td>-6</td>\n",
       "      <td>...</td>\n",
       "      <td>1</td>\n",
       "      <td>533</td>\n",
       "      <td>1</td>\n",
       "      <td>1</td>\n",
       "      <td>169.000000</td>\n",
       "      <td>213.750000</td>\n",
       "      <td>615.156712</td>\n",
       "      <td>0</td>\n",
       "      <td>-9</td>\n",
       "      <td>0.354919</td>\n",
       "    </tr>\n",
       "    <tr>\n",
       "      <th>1</th>\n",
       "      <td>50</td>\n",
       "      <td>5</td>\n",
       "      <td>3</td>\n",
       "      <td>1100</td>\n",
       "      <td>45744</td>\n",
       "      <td>4</td>\n",
       "      <td>1980</td>\n",
       "      <td>1</td>\n",
       "      <td>130000</td>\n",
       "      <td>-6</td>\n",
       "      <td>...</td>\n",
       "      <td>1</td>\n",
       "      <td>487</td>\n",
       "      <td>1</td>\n",
       "      <td>1</td>\n",
       "      <td>245.333333</td>\n",
       "      <td>58.333333</td>\n",
       "      <td>1058.988479</td>\n",
       "      <td>123000</td>\n",
       "      <td>-9</td>\n",
       "      <td>0.047527</td>\n",
       "    </tr>\n",
       "    <tr>\n",
       "      <th>2</th>\n",
       "      <td>53</td>\n",
       "      <td>5</td>\n",
       "      <td>3</td>\n",
       "      <td>1100</td>\n",
       "      <td>36614</td>\n",
       "      <td>4</td>\n",
       "      <td>1985</td>\n",
       "      <td>1</td>\n",
       "      <td>150000</td>\n",
       "      <td>-6</td>\n",
       "      <td>...</td>\n",
       "      <td>1</td>\n",
       "      <td>1405</td>\n",
       "      <td>1</td>\n",
       "      <td>1</td>\n",
       "      <td>159.000000</td>\n",
       "      <td>37.500000</td>\n",
       "      <td>1068.025168</td>\n",
       "      <td>28000</td>\n",
       "      <td>-9</td>\n",
       "      <td>0.602703</td>\n",
       "    </tr>\n",
       "    <tr>\n",
       "      <th>3</th>\n",
       "      <td>67</td>\n",
       "      <td>5</td>\n",
       "      <td>3</td>\n",
       "      <td>949</td>\n",
       "      <td>36614</td>\n",
       "      <td>3</td>\n",
       "      <td>1985</td>\n",
       "      <td>1</td>\n",
       "      <td>200000</td>\n",
       "      <td>-6</td>\n",
       "      <td>...</td>\n",
       "      <td>1</td>\n",
       "      <td>279</td>\n",
       "      <td>1</td>\n",
       "      <td>1</td>\n",
       "      <td>179.000000</td>\n",
       "      <td>70.666667</td>\n",
       "      <td>1411.700224</td>\n",
       "      <td>0</td>\n",
       "      <td>-9</td>\n",
       "      <td>0.103911</td>\n",
       "    </tr>\n",
       "    <tr>\n",
       "      <th>4</th>\n",
       "      <td>26</td>\n",
       "      <td>1</td>\n",
       "      <td>3</td>\n",
       "      <td>737</td>\n",
       "      <td>39421</td>\n",
       "      <td>2</td>\n",
       "      <td>1980</td>\n",
       "      <td>1</td>\n",
       "      <td>-6</td>\n",
       "      <td>-6</td>\n",
       "      <td>...</td>\n",
       "      <td>1</td>\n",
       "      <td>759</td>\n",
       "      <td>5</td>\n",
       "      <td>2</td>\n",
       "      <td>146.000000</td>\n",
       "      <td>12.500000</td>\n",
       "      <td>759.000000</td>\n",
       "      <td>96900</td>\n",
       "      <td>0</td>\n",
       "      <td>0.094019</td>\n",
       "    </tr>\n",
       "  </tbody>\n",
       "</table>\n",
       "<p>5 rows × 24 columns</p>\n",
       "</div>"
      ],
      "text/plain": [
       "   AGE1  METRO3  REGION   FMR    L80  BEDRMS  BUILT  TYPE   VALUE  VACANCY  \\\n",
       "0    82       3       1   956  40322       2   2006     1   40000       -6   \n",
       "1    50       5       3  1100  45744       4   1980     1  130000       -6   \n",
       "2    53       5       3  1100  36614       4   1985     1  150000       -6   \n",
       "3    67       5       3   949  36614       3   1985     1  200000       -6   \n",
       "4    26       1       3   737  39421       2   1980     1      -6       -6   \n",
       "\n",
       "     ...     ZADEQ  ZSMHC  STRUCTURETYPE  OWNRENT     UTILITY   OTHERCOST  \\\n",
       "0    ...         1    533              1        1  169.000000  213.750000   \n",
       "1    ...         1    487              1        1  245.333333   58.333333   \n",
       "2    ...         1   1405              1        1  159.000000   37.500000   \n",
       "3    ...         1    279              1        1  179.000000   70.666667   \n",
       "4    ...         1    759              5        2  146.000000   12.500000   \n",
       "\n",
       "       COSTMED  TOTSAL  ASSISTED    BURDEN  \n",
       "0   615.156712       0        -9  0.354919  \n",
       "1  1058.988479  123000        -9  0.047527  \n",
       "2  1068.025168   28000        -9  0.602703  \n",
       "3  1411.700224       0        -9  0.103911  \n",
       "4   759.000000   96900         0  0.094019  \n",
       "\n",
       "[5 rows x 24 columns]"
      ]
     },
     "execution_count": 3,
     "metadata": {},
     "output_type": "execute_result"
    }
   ],
   "source": [
    "df.head(5)"
   ]
  },
  {
   "cell_type": "code",
   "execution_count": 4,
   "metadata": {},
   "outputs": [
    {
     "name": "stdout",
     "output_type": "stream",
     "text": [
      "<class 'pandas.core.frame.DataFrame'>\n",
      "RangeIndex: 64535 entries, 0 to 64534\n",
      "Data columns (total 24 columns):\n",
      "AGE1             64535 non-null int64\n",
      "METRO3           64535 non-null int64\n",
      "REGION           64535 non-null int64\n",
      "FMR              64535 non-null int64\n",
      "L80              64535 non-null int64\n",
      "BEDRMS           64535 non-null int64\n",
      "BUILT            64535 non-null int64\n",
      "TYPE             64535 non-null int64\n",
      "VALUE            64535 non-null int64\n",
      "VACANCY          64535 non-null int64\n",
      "NUNITS           64535 non-null int64\n",
      "ROOMS            64535 non-null int64\n",
      "PER              64535 non-null int64\n",
      "ZINC2            64535 non-null int64\n",
      "ZADEQ            64535 non-null int64\n",
      "ZSMHC            64535 non-null int64\n",
      "STRUCTURETYPE    64535 non-null int64\n",
      "OWNRENT          64535 non-null int64\n",
      "UTILITY          64535 non-null float64\n",
      "OTHERCOST        64535 non-null float64\n",
      "COSTMED          64535 non-null float64\n",
      "TOTSAL           64535 non-null int64\n",
      "ASSISTED         64535 non-null int64\n",
      "BURDEN           64535 non-null float64\n",
      "dtypes: float64(4), int64(20)\n",
      "memory usage: 11.8 MB\n"
     ]
    }
   ],
   "source": [
    "df.info()"
   ]
  },
  {
   "cell_type": "markdown",
   "metadata": {},
   "source": [
    "### Null Values\n",
    "The next step is to get rid of all of the null values. In this dataset, the null values are represented by negative numbers. For continuous variables, I'll replace with the median value or for binomial variables I'll replace with the most frequent variable. "
   ]
  },
  {
   "cell_type": "code",
   "execution_count": 5,
   "metadata": {},
   "outputs": [
    {
     "data": {
      "text/plain": [
       "array([82, 50, 53, 67, 26, 56, 60, 59, 54, 25, 52, 22, 55, 57, 84, 74, 70,\n",
       "       62, 32, -9, 41, 15, 24, 28, 40, 86, 39, 34, 64, 71, 72, 45, 33, 29,\n",
       "       65, 42, 51, 23, 31, 49, 43, 38, 66, 36, 58, 44, 76, 37, 88, 35, 93,\n",
       "       30, 73, 63, 68, 61, 46, 77, 19, 69, 47, 81, 85, 80, 87, 27, 21, 75,\n",
       "       78, 20, 48, 79, 83, 89, 17, 18, 16, 13, 14])"
      ]
     },
     "execution_count": 5,
     "metadata": {},
     "output_type": "execute_result"
    }
   ],
   "source": [
    "df.AGE1.unique()"
   ]
  },
  {
   "cell_type": "code",
   "execution_count": 6,
   "metadata": {},
   "outputs": [
    {
     "data": {
      "text/plain": [
       "50.0"
      ]
     },
     "execution_count": 6,
     "metadata": {},
     "output_type": "execute_result"
    }
   ],
   "source": [
    "df.AGE1.median()"
   ]
  },
  {
   "cell_type": "code",
   "execution_count": 7,
   "metadata": {
    "scrolled": true
   },
   "outputs": [],
   "source": [
    "df.AGE1 = df.AGE1.replace(-9, 50)"
   ]
  },
  {
   "cell_type": "code",
   "execution_count": 8,
   "metadata": {},
   "outputs": [
    {
     "data": {
      "text/plain": [
       "array([3, 5, 1, 2, 4])"
      ]
     },
     "execution_count": 8,
     "metadata": {},
     "output_type": "execute_result"
    }
   ],
   "source": [
    "df.METRO3.unique()"
   ]
  },
  {
   "cell_type": "code",
   "execution_count": 9,
   "metadata": {},
   "outputs": [
    {
     "data": {
      "text/plain": [
       "array([1, 3, 4, 2])"
      ]
     },
     "execution_count": 9,
     "metadata": {},
     "output_type": "execute_result"
    }
   ],
   "source": [
    "df.REGION.unique()"
   ]
  },
  {
   "cell_type": "code",
   "execution_count": 10,
   "metadata": {},
   "outputs": [],
   "source": [
    "df.BUILT = 2019-df[\"BUILT\"]"
   ]
  },
  {
   "cell_type": "code",
   "execution_count": 11,
   "metadata": {
    "scrolled": true
   },
   "outputs": [
    {
     "data": {
      "text/plain": [
       "-6          27389\n",
       " 150000      1918\n",
       " 200000      1817\n",
       " 100000      1774\n",
       " 80000       1524\n",
       " 300000      1444\n",
       " 250000      1421\n",
       " 180000      1381\n",
       " 130000      1381\n",
       " 90000       1317\n",
       " 120000      1178\n",
       " 70000       1089\n",
       " 350000       991\n",
       " 50000        979\n",
       " 140000       967\n",
       " 400000       925\n",
       " 60000        908\n",
       " 160000       818\n",
       " 170000       798\n",
       " 230000       785\n",
       " 40000        763\n",
       " 110000       696\n",
       " 500000       653\n",
       " 30000        645\n",
       " 280000       636\n",
       " 190000       603\n",
       " 10000        598\n",
       " 20000        552\n",
       " 450000       541\n",
       " 220000       487\n",
       "            ...  \n",
       " 510000         9\n",
       " 980000         7\n",
       " 1050000        7\n",
       " 890000         6\n",
       " 610000         6\n",
       " 760000         6\n",
       " 840000         5\n",
       " 740000         5\n",
       " 820000         5\n",
       " 870000         4\n",
       " 1350000        4\n",
       " 1020000        4\n",
       " 990000         3\n",
       " 710000         3\n",
       " 810000         3\n",
       " 920000         3\n",
       " 770000         2\n",
       " 1010000        1\n",
       " 910000         1\n",
       " 1080000        1\n",
       " 1240000        1\n",
       " 960000         1\n",
       " 860000         1\n",
       " 1400000        1\n",
       " 940000         1\n",
       " 1040000        1\n",
       " 970000         1\n",
       " 1130000        1\n",
       " 1230000        1\n",
       " 930000         1\n",
       "Name: VALUE, Length: 117, dtype: int64"
      ]
     },
     "execution_count": 11,
     "metadata": {},
     "output_type": "execute_result"
    }
   ],
   "source": [
    "df.VALUE.value_counts()"
   ]
  },
  {
   "cell_type": "code",
   "execution_count": 12,
   "metadata": {},
   "outputs": [],
   "source": [
    "df.VALUE.median()\n",
    "df.VALUE = df.VALUE.replace(-6, 60000)\n"
   ]
  },
  {
   "cell_type": "code",
   "execution_count": 13,
   "metadata": {},
   "outputs": [
    {
     "data": {
      "text/plain": [
       "3    24850\n",
       "2    16401\n",
       "4    10189\n",
       "1     9821\n",
       "5     2209\n",
       "0      622\n",
       "6      392\n",
       "7       51\n",
       "Name: BEDRMS, dtype: int64"
      ]
     },
     "execution_count": 13,
     "metadata": {},
     "output_type": "execute_result"
    }
   ],
   "source": [
    "df.BEDRMS.value_counts()"
   ]
  },
  {
   "cell_type": "code",
   "execution_count": 14,
   "metadata": {},
   "outputs": [
    {
     "data": {
      "text/plain": [
       "-6    60097\n",
       " 1     2760\n",
       " 3     1010\n",
       " 5      284\n",
       " 2      212\n",
       " 4      172\n",
       "Name: VACANCY, dtype: int64"
      ]
     },
     "execution_count": 14,
     "metadata": {},
     "output_type": "execute_result"
    }
   ],
   "source": [
    "df.VACANCY.value_counts()"
   ]
  },
  {
   "cell_type": "code",
   "execution_count": 15,
   "metadata": {},
   "outputs": [],
   "source": [
    "df = df.drop(\"VACANCY\", axis =1)"
   ]
  },
  {
   "cell_type": "code",
   "execution_count": 16,
   "metadata": {},
   "outputs": [],
   "source": [
    "df = df.drop(\"OTHERCOST\", axis = 1)"
   ]
  },
  {
   "cell_type": "code",
   "execution_count": 17,
   "metadata": {
    "scrolled": true
   },
   "outputs": [
    {
     "data": {
      "text/html": [
       "<div>\n",
       "<style scoped>\n",
       "    .dataframe tbody tr th:only-of-type {\n",
       "        vertical-align: middle;\n",
       "    }\n",
       "\n",
       "    .dataframe tbody tr th {\n",
       "        vertical-align: top;\n",
       "    }\n",
       "\n",
       "    .dataframe thead th {\n",
       "        text-align: right;\n",
       "    }\n",
       "</style>\n",
       "<table border=\"1\" class=\"dataframe\">\n",
       "  <thead>\n",
       "    <tr style=\"text-align: right;\">\n",
       "      <th></th>\n",
       "      <th>AGE1</th>\n",
       "      <th>METRO3</th>\n",
       "      <th>REGION</th>\n",
       "      <th>FMR</th>\n",
       "      <th>L80</th>\n",
       "      <th>BEDRMS</th>\n",
       "      <th>BUILT</th>\n",
       "      <th>TYPE</th>\n",
       "      <th>VALUE</th>\n",
       "      <th>NUNITS</th>\n",
       "      <th>...</th>\n",
       "      <th>ZINC2</th>\n",
       "      <th>ZADEQ</th>\n",
       "      <th>ZSMHC</th>\n",
       "      <th>STRUCTURETYPE</th>\n",
       "      <th>OWNRENT</th>\n",
       "      <th>UTILITY</th>\n",
       "      <th>COSTMED</th>\n",
       "      <th>TOTSAL</th>\n",
       "      <th>ASSISTED</th>\n",
       "      <th>BURDEN</th>\n",
       "    </tr>\n",
       "  </thead>\n",
       "  <tbody>\n",
       "    <tr>\n",
       "      <th>0</th>\n",
       "      <td>82</td>\n",
       "      <td>3</td>\n",
       "      <td>1</td>\n",
       "      <td>956</td>\n",
       "      <td>40322</td>\n",
       "      <td>2</td>\n",
       "      <td>13</td>\n",
       "      <td>1</td>\n",
       "      <td>40000</td>\n",
       "      <td>1</td>\n",
       "      <td>...</td>\n",
       "      <td>18021</td>\n",
       "      <td>1</td>\n",
       "      <td>533</td>\n",
       "      <td>1</td>\n",
       "      <td>1</td>\n",
       "      <td>169.000000</td>\n",
       "      <td>615.156712</td>\n",
       "      <td>0</td>\n",
       "      <td>-9</td>\n",
       "      <td>0.354919</td>\n",
       "    </tr>\n",
       "    <tr>\n",
       "      <th>1</th>\n",
       "      <td>50</td>\n",
       "      <td>5</td>\n",
       "      <td>3</td>\n",
       "      <td>1100</td>\n",
       "      <td>45744</td>\n",
       "      <td>4</td>\n",
       "      <td>39</td>\n",
       "      <td>1</td>\n",
       "      <td>130000</td>\n",
       "      <td>1</td>\n",
       "      <td>...</td>\n",
       "      <td>122961</td>\n",
       "      <td>1</td>\n",
       "      <td>487</td>\n",
       "      <td>1</td>\n",
       "      <td>1</td>\n",
       "      <td>245.333333</td>\n",
       "      <td>1058.988479</td>\n",
       "      <td>123000</td>\n",
       "      <td>-9</td>\n",
       "      <td>0.047527</td>\n",
       "    </tr>\n",
       "    <tr>\n",
       "      <th>2</th>\n",
       "      <td>53</td>\n",
       "      <td>5</td>\n",
       "      <td>3</td>\n",
       "      <td>1100</td>\n",
       "      <td>36614</td>\n",
       "      <td>4</td>\n",
       "      <td>34</td>\n",
       "      <td>1</td>\n",
       "      <td>150000</td>\n",
       "      <td>1</td>\n",
       "      <td>...</td>\n",
       "      <td>27974</td>\n",
       "      <td>1</td>\n",
       "      <td>1405</td>\n",
       "      <td>1</td>\n",
       "      <td>1</td>\n",
       "      <td>159.000000</td>\n",
       "      <td>1068.025168</td>\n",
       "      <td>28000</td>\n",
       "      <td>-9</td>\n",
       "      <td>0.602703</td>\n",
       "    </tr>\n",
       "    <tr>\n",
       "      <th>3</th>\n",
       "      <td>67</td>\n",
       "      <td>5</td>\n",
       "      <td>3</td>\n",
       "      <td>949</td>\n",
       "      <td>36614</td>\n",
       "      <td>3</td>\n",
       "      <td>34</td>\n",
       "      <td>1</td>\n",
       "      <td>200000</td>\n",
       "      <td>1</td>\n",
       "      <td>...</td>\n",
       "      <td>32220</td>\n",
       "      <td>1</td>\n",
       "      <td>279</td>\n",
       "      <td>1</td>\n",
       "      <td>1</td>\n",
       "      <td>179.000000</td>\n",
       "      <td>1411.700224</td>\n",
       "      <td>0</td>\n",
       "      <td>-9</td>\n",
       "      <td>0.103911</td>\n",
       "    </tr>\n",
       "    <tr>\n",
       "      <th>4</th>\n",
       "      <td>26</td>\n",
       "      <td>1</td>\n",
       "      <td>3</td>\n",
       "      <td>737</td>\n",
       "      <td>39421</td>\n",
       "      <td>2</td>\n",
       "      <td>39</td>\n",
       "      <td>1</td>\n",
       "      <td>60000</td>\n",
       "      <td>100</td>\n",
       "      <td>...</td>\n",
       "      <td>96874</td>\n",
       "      <td>1</td>\n",
       "      <td>759</td>\n",
       "      <td>5</td>\n",
       "      <td>2</td>\n",
       "      <td>146.000000</td>\n",
       "      <td>759.000000</td>\n",
       "      <td>96900</td>\n",
       "      <td>0</td>\n",
       "      <td>0.094019</td>\n",
       "    </tr>\n",
       "  </tbody>\n",
       "</table>\n",
       "<p>5 rows × 22 columns</p>\n",
       "</div>"
      ],
      "text/plain": [
       "   AGE1  METRO3  REGION   FMR    L80  BEDRMS  BUILT  TYPE   VALUE  NUNITS  \\\n",
       "0    82       3       1   956  40322       2     13     1   40000       1   \n",
       "1    50       5       3  1100  45744       4     39     1  130000       1   \n",
       "2    53       5       3  1100  36614       4     34     1  150000       1   \n",
       "3    67       5       3   949  36614       3     34     1  200000       1   \n",
       "4    26       1       3   737  39421       2     39     1   60000     100   \n",
       "\n",
       "     ...      ZINC2  ZADEQ  ZSMHC  STRUCTURETYPE  OWNRENT     UTILITY  \\\n",
       "0    ...      18021      1    533              1        1  169.000000   \n",
       "1    ...     122961      1    487              1        1  245.333333   \n",
       "2    ...      27974      1   1405              1        1  159.000000   \n",
       "3    ...      32220      1    279              1        1  179.000000   \n",
       "4    ...      96874      1    759              5        2  146.000000   \n",
       "\n",
       "       COSTMED  TOTSAL  ASSISTED    BURDEN  \n",
       "0   615.156712       0        -9  0.354919  \n",
       "1  1058.988479  123000        -9  0.047527  \n",
       "2  1068.025168   28000        -9  0.602703  \n",
       "3  1411.700224       0        -9  0.103911  \n",
       "4   759.000000   96900         0  0.094019  \n",
       "\n",
       "[5 rows x 22 columns]"
      ]
     },
     "execution_count": 17,
     "metadata": {},
     "output_type": "execute_result"
    }
   ],
   "source": [
    "df.head(5)"
   ]
  },
  {
   "cell_type": "code",
   "execution_count": 18,
   "metadata": {},
   "outputs": [],
   "source": [
    "df.ZADEQ = df.ZADEQ.replace(-6, 1)"
   ]
  },
  {
   "cell_type": "code",
   "execution_count": 19,
   "metadata": {},
   "outputs": [
    {
     "data": {
      "text/plain": [
       "array([1, 2, 3])"
      ]
     },
     "execution_count": 19,
     "metadata": {},
     "output_type": "execute_result"
    }
   ],
   "source": [
    "df.ZADEQ.unique()"
   ]
  },
  {
   "cell_type": "code",
   "execution_count": 20,
   "metadata": {
    "scrolled": true
   },
   "outputs": [
    {
     "data": {
      "text/plain": [
       "1    61226\n",
       "2     2148\n",
       "3     1161\n",
       "Name: ZADEQ, dtype: int64"
      ]
     },
     "execution_count": 20,
     "metadata": {},
     "output_type": "execute_result"
    }
   ],
   "source": [
    "df.ZADEQ.value_counts()"
   ]
  },
  {
   "cell_type": "code",
   "execution_count": 21,
   "metadata": {
    "scrolled": true
   },
   "outputs": [
    {
     "data": {
      "text/plain": [
       "39987.0"
      ]
     },
     "execution_count": 21,
     "metadata": {},
     "output_type": "execute_result"
    }
   ],
   "source": [
    "df.ZINC2.median()"
   ]
  },
  {
   "cell_type": "code",
   "execution_count": 22,
   "metadata": {},
   "outputs": [],
   "source": [
    "df.ZINC2 = df.ZINC2.replace(-13, 39987.0)"
   ]
  },
  {
   "cell_type": "code",
   "execution_count": 23,
   "metadata": {},
   "outputs": [
    {
     "data": {
      "text/plain": [
       "1061921"
      ]
     },
     "execution_count": 23,
     "metadata": {},
     "output_type": "execute_result"
    }
   ],
   "source": [
    "df.ZINC2.max()"
   ]
  },
  {
   "cell_type": "code",
   "execution_count": 24,
   "metadata": {},
   "outputs": [],
   "source": [
    "df = df.drop(df[df.ZINC2 > 150000].index)"
   ]
  },
  {
   "cell_type": "code",
   "execution_count": 25,
   "metadata": {},
   "outputs": [
    {
     "data": {
      "text/plain": [
       "59473"
      ]
     },
     "execution_count": 25,
     "metadata": {},
     "output_type": "execute_result"
    }
   ],
   "source": [
    "len(df.ZINC2)"
   ]
  },
  {
   "cell_type": "code",
   "execution_count": 26,
   "metadata": {},
   "outputs": [
    {
     "data": {
      "text/plain": [
       "150000"
      ]
     },
     "execution_count": 26,
     "metadata": {},
     "output_type": "execute_result"
    }
   ],
   "source": [
    "df.ZINC2.max()"
   ]
  },
  {
   "cell_type": "code",
   "execution_count": 27,
   "metadata": {},
   "outputs": [],
   "source": [
    "df = df.drop(df[df.VALUE > 350000].index)"
   ]
  },
  {
   "cell_type": "code",
   "execution_count": 28,
   "metadata": {},
   "outputs": [
    {
     "data": {
      "text/plain": [
       "1613.0"
      ]
     },
     "execution_count": 28,
     "metadata": {},
     "output_type": "execute_result"
    }
   ],
   "source": [
    "df.UTILITY.max()"
   ]
  },
  {
   "cell_type": "code",
   "execution_count": 29,
   "metadata": {},
   "outputs": [],
   "source": [
    "df = df.drop(df[df.UTILITY > 700].index)"
   ]
  },
  {
   "cell_type": "code",
   "execution_count": 30,
   "metadata": {},
   "outputs": [
    {
     "data": {
      "text/plain": [
       "747.0"
      ]
     },
     "execution_count": 30,
     "metadata": {},
     "output_type": "execute_result"
    }
   ],
   "source": [
    "df.ZSMHC.median()"
   ]
  },
  {
   "cell_type": "code",
   "execution_count": 31,
   "metadata": {},
   "outputs": [],
   "source": [
    "df.ZSMHC = df.ZSMHC.replace(-6, 839.0)"
   ]
  },
  {
   "cell_type": "code",
   "execution_count": 32,
   "metadata": {},
   "outputs": [
    {
     "data": {
      "text/plain": [
       " 1    32734\n",
       " 3     7044\n",
       " 2     5960\n",
       " 5     4280\n",
       " 4     2611\n",
       " 6     2412\n",
       "-9        2\n",
       "Name: STRUCTURETYPE, dtype: int64"
      ]
     },
     "execution_count": 32,
     "metadata": {},
     "output_type": "execute_result"
    }
   ],
   "source": [
    "df.STRUCTURETYPE.value_counts()"
   ]
  },
  {
   "cell_type": "code",
   "execution_count": 33,
   "metadata": {},
   "outputs": [],
   "source": [
    "df.STRUCTURETYPE = df.STRUCTURETYPE.replace(-9, 1)"
   ]
  },
  {
   "cell_type": "code",
   "execution_count": 34,
   "metadata": {},
   "outputs": [
    {
     "data": {
      "text/plain": [
       " 0         17075\n",
       "-9          4222\n",
       " 30000       867\n",
       " 40000       845\n",
       " 50000       831\n",
       " 60000       766\n",
       " 25000       725\n",
       " 35000       626\n",
       " 20000       620\n",
       " 45000       593\n",
       " 80000       589\n",
       " 70000       557\n",
       " 100000      533\n",
       " 12000       487\n",
       " 75000       465\n",
       " 65000       459\n",
       " 55000       441\n",
       " 15000       430\n",
       " 90000       404\n",
       " 24000       385\n",
       " 32000       375\n",
       " 10000       373\n",
       " 48000       314\n",
       " 18000       310\n",
       " 85000       302\n",
       " 28000       294\n",
       " 120000      283\n",
       " 42000       279\n",
       " 38000       273\n",
       " 36000       272\n",
       "           ...  \n",
       " 58543         1\n",
       " 31900         1\n",
       " 23640         1\n",
       " 23576         1\n",
       " 5137          1\n",
       " 52234         1\n",
       " 19450         1\n",
       " 7536          1\n",
       " 81300         1\n",
       " 4050          1\n",
       " 20250         1\n",
       " 32700         1\n",
       " 53162         1\n",
       " 44966         1\n",
       " 106400        1\n",
       " 28574         1\n",
       " 42887         1\n",
       " 139120        1\n",
       " 118570        1\n",
       " 25725         1\n",
       " 30109         1\n",
       " 28382         1\n",
       " 34467         1\n",
       " 140887        1\n",
       " 15956         1\n",
       " 67155         1\n",
       " 40512         1\n",
       " 17947         1\n",
       " 109990        1\n",
       " 23611         1\n",
       "Name: TOTSAL, Length: 3356, dtype: int64"
      ]
     },
     "execution_count": 34,
     "metadata": {},
     "output_type": "execute_result"
    }
   ],
   "source": [
    "df.TOTSAL.value_counts()"
   ]
  },
  {
   "cell_type": "code",
   "execution_count": 35,
   "metadata": {},
   "outputs": [
    {
     "data": {
      "text/plain": [
       "18000.0"
      ]
     },
     "execution_count": 35,
     "metadata": {},
     "output_type": "execute_result"
    }
   ],
   "source": [
    "df.TOTSAL.median()"
   ]
  },
  {
   "cell_type": "code",
   "execution_count": 36,
   "metadata": {},
   "outputs": [],
   "source": [
    "df.TOTSAL = df.TOTSAL.replace(-9, 24000)"
   ]
  },
  {
   "cell_type": "code",
   "execution_count": 37,
   "metadata": {},
   "outputs": [
    {
     "data": {
      "text/plain": [
       "-9    31386\n",
       " 0    17059\n",
       " 1     6598\n",
       "Name: ASSISTED, dtype: int64"
      ]
     },
     "execution_count": 37,
     "metadata": {},
     "output_type": "execute_result"
    }
   ],
   "source": [
    "df.ASSISTED.value_counts()"
   ]
  },
  {
   "cell_type": "code",
   "execution_count": 38,
   "metadata": {},
   "outputs": [],
   "source": [
    "df.ASSISTED = df.ASSISTED.replace(-9, 0)"
   ]
  },
  {
   "cell_type": "markdown",
   "metadata": {},
   "source": [
    "### Defining the dependent variable.\n",
    "\n",
    "Affordability will be calculated using the Burden variable. Housing units where the percentage of income to rent is greater than 30% are given a \"1\" (not affordable) while housing units where the percentage is <= 30% are given a \"0\" (affordable). This makes logistic regression and classification possible."
   ]
  },
  {
   "cell_type": "code",
   "execution_count": 39,
   "metadata": {},
   "outputs": [
    {
     "data": {
      "text/plain": [
       "-9.000000    4222\n",
       "-1.000000    1173\n",
       " 0.000000     123\n",
       " 0.300000      19\n",
       " 0.400000      14\n",
       " 0.360000      14\n",
       " 0.120000      12\n",
       " 0.312000      10\n",
       " 0.500000      10\n",
       " 0.200000      10\n",
       " 0.320000       9\n",
       " 0.285000       9\n",
       " 0.280000       9\n",
       " 6.000000       8\n",
       " 0.252000       8\n",
       " 0.250000       8\n",
       " 0.210000       8\n",
       " 0.240000       8\n",
       " 0.168000       8\n",
       " 0.480000       8\n",
       " 0.220000       7\n",
       " 0.216000       7\n",
       " 0.330000       7\n",
       " 0.324000       7\n",
       " 0.288000       7\n",
       " 0.192000       7\n",
       " 0.285714       7\n",
       " 0.800000       7\n",
       " 0.285915       6\n",
       " 0.166667       6\n",
       "             ... \n",
       " 0.060507       1\n",
       " 0.287587       1\n",
       " 0.145603       1\n",
       " 0.204512       1\n",
       " 0.187032       1\n",
       " 0.235309       1\n",
       " 0.416044       1\n",
       " 0.235234       1\n",
       " 0.194039       1\n",
       " 0.215206       1\n",
       " 0.163975       1\n",
       " 0.140328       1\n",
       " 0.078100       1\n",
       " 0.224849       1\n",
       " 0.388889       1\n",
       " 0.050985       1\n",
       " 0.169695       1\n",
       " 0.153155       1\n",
       " 0.262547       1\n",
       " 0.615108       1\n",
       " 0.400653       1\n",
       " 0.188525       1\n",
       " 0.611155       1\n",
       " 0.185915       1\n",
       " 0.526335       1\n",
       " 0.156462       1\n",
       " 1.146154       1\n",
       " 0.153404       1\n",
       " 0.328828       1\n",
       " 0.258953       1\n",
       "Name: BURDEN, Length: 47071, dtype: int64"
      ]
     },
     "execution_count": 39,
     "metadata": {},
     "output_type": "execute_result"
    }
   ],
   "source": [
    "df.BURDEN.value_counts()"
   ]
  },
  {
   "cell_type": "code",
   "execution_count": 40,
   "metadata": {},
   "outputs": [],
   "source": [
    "df = df[df.BURDEN != -9]\n",
    "df = df[df.BURDEN != -1]"
   ]
  },
  {
   "cell_type": "code",
   "execution_count": 41,
   "metadata": {
    "scrolled": true
   },
   "outputs": [
    {
     "data": {
      "text/plain": [
       "0.000000    123\n",
       "0.300000     19\n",
       "0.400000     14\n",
       "0.360000     14\n",
       "0.120000     12\n",
       "0.312000     10\n",
       "0.500000     10\n",
       "0.200000     10\n",
       "0.285000      9\n",
       "0.280000      9\n",
       "0.320000      9\n",
       "0.240000      8\n",
       "0.252000      8\n",
       "0.480000      8\n",
       "0.168000      8\n",
       "0.210000      8\n",
       "0.250000      8\n",
       "6.000000      8\n",
       "0.216000      7\n",
       "0.285714      7\n",
       "0.192000      7\n",
       "0.220000      7\n",
       "0.800000      7\n",
       "0.324000      7\n",
       "0.330000      7\n",
       "0.288000      7\n",
       "0.310000      6\n",
       "0.520000      6\n",
       "0.231429      6\n",
       "0.375000      6\n",
       "           ... \n",
       "0.060507      1\n",
       "0.287587      1\n",
       "0.145603      1\n",
       "0.204512      1\n",
       "0.187032      1\n",
       "0.235309      1\n",
       "0.416044      1\n",
       "0.235234      1\n",
       "0.194039      1\n",
       "0.215206      1\n",
       "0.163975      1\n",
       "0.140328      1\n",
       "0.078100      1\n",
       "0.224849      1\n",
       "0.388889      1\n",
       "0.050985      1\n",
       "0.169695      1\n",
       "0.153155      1\n",
       "0.262547      1\n",
       "0.615108      1\n",
       "0.400653      1\n",
       "0.188525      1\n",
       "0.611155      1\n",
       "0.185915      1\n",
       "0.526335      1\n",
       "0.156462      1\n",
       "1.146154      1\n",
       "0.153404      1\n",
       "0.328828      1\n",
       "0.138588      1\n",
       "Name: BURDEN, Length: 47069, dtype: int64"
      ]
     },
     "execution_count": 41,
     "metadata": {},
     "output_type": "execute_result"
    }
   ],
   "source": [
    "df.BURDEN.value_counts()"
   ]
  },
  {
   "cell_type": "code",
   "execution_count": 42,
   "metadata": {},
   "outputs": [],
   "source": [
    "Burden_Val = []\n",
    "for x in df[\"BURDEN\"]:\n",
    "    if x >= .30:\n",
    "        Burden_Val.append(\"1\")\n",
    "    else:\n",
    "        Burden_Val.append(\"0\")"
   ]
  },
  {
   "cell_type": "code",
   "execution_count": 43,
   "metadata": {},
   "outputs": [],
   "source": [
    "df[\"Burden_Val\"] = Burden_Val"
   ]
  },
  {
   "cell_type": "code",
   "execution_count": 44,
   "metadata": {},
   "outputs": [
    {
     "data": {
      "text/plain": [
       "0    29840\n",
       "1    19808\n",
       "Name: Burden_Val, dtype: int64"
      ]
     },
     "execution_count": 44,
     "metadata": {},
     "output_type": "execute_result"
    }
   ],
   "source": [
    "df[\"Burden_Val\"].value_counts()"
   ]
  },
  {
   "cell_type": "code",
   "execution_count": 45,
   "metadata": {},
   "outputs": [],
   "source": [
    "df = df.drop(\"BURDEN\", axis=1)"
   ]
  },
  {
   "cell_type": "markdown",
   "metadata": {},
   "source": [
    "### Data Types\n",
    "\n",
    "The next step is to check out the variable types and make sure that non-continuous datatypes are not classifed as integers, even if they are labeled with numbers."
   ]
  },
  {
   "cell_type": "code",
   "execution_count": 46,
   "metadata": {
    "scrolled": true
   },
   "outputs": [
    {
     "data": {
      "text/plain": [
       "AGE1               int64\n",
       "METRO3             int64\n",
       "REGION             int64\n",
       "FMR                int64\n",
       "L80                int64\n",
       "BEDRMS             int64\n",
       "BUILT              int64\n",
       "TYPE               int64\n",
       "VALUE              int64\n",
       "NUNITS             int64\n",
       "ROOMS              int64\n",
       "PER                int64\n",
       "ZINC2              int64\n",
       "ZADEQ              int64\n",
       "ZSMHC              int64\n",
       "STRUCTURETYPE      int64\n",
       "OWNRENT            int64\n",
       "UTILITY          float64\n",
       "COSTMED          float64\n",
       "TOTSAL             int64\n",
       "ASSISTED           int64\n",
       "Burden_Val        object\n",
       "dtype: object"
      ]
     },
     "execution_count": 46,
     "metadata": {},
     "output_type": "execute_result"
    }
   ],
   "source": [
    "df.dtypes"
   ]
  },
  {
   "cell_type": "code",
   "execution_count": 47,
   "metadata": {},
   "outputs": [],
   "source": [
    "df.METRO3 = df.METRO3.astype('str')\n",
    "df.REGION = df.REGION.astype('str')\n",
    "df.TYPE = df.TYPE.astype('str')\n",
    "df.OWNRENT = df.OWNRENT.astype('str')\n",
    "df.STRUCTURETYPE = df.STRUCTURETYPE.astype('str')\n",
    "df.ASSISTED = df.ASSISTED.astype('str')"
   ]
  },
  {
   "cell_type": "markdown",
   "metadata": {},
   "source": [
    "### SECTION TWO: Examine the data\n"
   ]
  },
  {
   "cell_type": "markdown",
   "metadata": {},
   "source": [
    "Correlation matrix is used to see which variables are highly correlated with each other. Those need to be removed to prevent overfitting of the data. A dark blue box in the below graph indicates highly correlated variables."
   ]
  },
  {
   "cell_type": "code",
   "execution_count": 48,
   "metadata": {},
   "outputs": [
    {
     "data": {
      "text/plain": [
       "<matplotlib.axes._subplots.AxesSubplot at 0x1c17c96588>"
      ]
     },
     "execution_count": 48,
     "metadata": {},
     "output_type": "execute_result"
    },
    {
     "data": {
      "image/png": "[encoded data removed]",
      "text/plain": [
       "<Figure size 2016x2016 with 2 Axes>"
      ]
     },
     "metadata": {
      "needs_background": "light"
     },
     "output_type": "display_data"
    }
   ],
   "source": [
    "\n",
    "plt.figure(figsize = (28,28))\n",
    "corr = df.corr()\n",
    "sns.heatmap(corr, cmap=\"YlGnBu\")"
   ]
  },
  {
   "cell_type": "code",
   "execution_count": 49,
   "metadata": {},
   "outputs": [],
   "source": [
    "df = df.drop([\"TOTSAL\",\"COSTMED\", \"BEDRMS\", \"L80\", \"ZSMHC\", \"UTILITY\"], axis = 1)"
   ]
  },
  {
   "cell_type": "code",
   "execution_count": 50,
   "metadata": {},
   "outputs": [
    {
     "data": {
      "text/plain": [
       "<matplotlib.axes._subplots.AxesSubplot at 0x1c17c2d198>"
      ]
     },
     "execution_count": 50,
     "metadata": {},
     "output_type": "execute_result"
    },
    {
     "data": {
      "image/png": "[encoded data removed]",
      "text/plain": [
       "<Figure size 2016x2016 with 2 Axes>"
      ]
     },
     "metadata": {
      "needs_background": "light"
     },
     "output_type": "display_data"
    }
   ],
   "source": [
    "plt.figure(figsize = (28,28))\n",
    "corr = df.corr()\n",
    "sns.heatmap(corr, cmap=\"YlGnBu\")"
   ]
  },
  {
   "cell_type": "markdown",
   "metadata": {},
   "source": [
    "Next, we will look at the histograms of the data and to see if there are outliers in the data. From this information, ZINC2 and VALUE were two variables especially where I capped the highest number to get a more representative sample of the data. "
   ]
  },
  {
   "cell_type": "code",
   "execution_count": 51,
   "metadata": {
    "scrolled": false
   },
   "outputs": [
    {
     "data": {
      "image/png": "[encoded data removed]",
      "text/plain": [
       "<Figure size 1440x1296 with 9 Axes>"
      ]
     },
     "metadata": {
      "needs_background": "light"
     },
     "output_type": "display_data"
    }
   ],
   "source": [
    "df.hist(figsize = (20,18));"
   ]
  },
  {
   "cell_type": "markdown",
   "metadata": {},
   "source": [
    "#### Min/Max Scaling (normalization):\n",
    "\n",
    "This is critical to performing modeling and classification. The following code will put all of the numeric variables on a scale from 0-1."
   ]
  },
  {
   "cell_type": "code",
   "execution_count": 52,
   "metadata": {},
   "outputs": [],
   "source": [
    "\n",
    "df[\"AGE1\"] = (df[\"AGE1\"]-min(df[\"AGE1\"]))/ (max(df[\"AGE1\"]) - min(df[\"AGE1\"]))\n",
    "df[\"FMR\"] = (df[\"FMR\"]-min(df[\"FMR\"]))/ (max(df[\"FMR\"]) - min(df[\"FMR\"]))\n",
    "df[\"BUILT\"] = (df[\"BUILT\"]-min(df[\"BUILT\"]))/ (max(df[\"BUILT\"]) - min(df[\"BUILT\"]))\n",
    "df[\"VALUE\"] = (df[\"VALUE\"]-min(df[\"VALUE\"]))/ (max(df[\"VALUE\"]) - min(df[\"VALUE\"]))\n",
    "df[\"NUNITS\"] = (df[\"NUNITS\"]-min(df[\"NUNITS\"]))/ (max(df[\"NUNITS\"]) - min(df[\"NUNITS\"]))\n",
    "df[\"ROOMS\"] = (df[\"ROOMS\"]-min(df[\"ROOMS\"]))/ (max(df[\"ROOMS\"]) - min(df[\"ROOMS\"]))\n",
    "df[\"PER\"] = (df[\"PER\"]-min(df[\"PER\"]))/ (max(df[\"PER\"]) - min(df[\"PER\"]))\n",
    "df[\"NUNITS\"] = (df[\"NUNITS\"]-min(df[\"NUNITS\"]))/ (max(df[\"NUNITS\"]) - min(df[\"NUNITS\"]))\n",
    "df[\"ZINC2\"] = (df[\"ZINC2\"]-min(df[\"ZINC2\"]))/ (max(df[\"ZINC2\"]) - min(df[\"ZINC2\"]))\n",
    "df[\"ZADEQ\"] = (df[\"ZADEQ\"]-min(df[\"ZADEQ\"]))/ (max(df[\"ZADEQ\"]) - min(df[\"ZADEQ\"]))\n",
    "\n",
    "\n",
    "\n",
    "\n"
   ]
  },
  {
   "cell_type": "code",
   "execution_count": null,
   "metadata": {},
   "outputs": [],
   "source": []
  },
  {
   "cell_type": "markdown",
   "metadata": {},
   "source": [
    "## LOGISTIC REGRESSION\n",
    "\n",
    "In this next step, we will perform a logistic regression. We will seperate the data into two datasets, one with the target variable (affordability) and the other with the clean and standarized features. Then, we'll fit a logistic regression model to the data.\n"
   ]
  },
  {
   "cell_type": "markdown",
   "metadata": {},
   "source": [
    "First Step:"
   ]
  },
  {
   "cell_type": "code",
   "execution_count": 53,
   "metadata": {},
   "outputs": [],
   "source": [
    "X = df"
   ]
  },
  {
   "cell_type": "code",
   "execution_count": 54,
   "metadata": {},
   "outputs": [
    {
     "data": {
      "text/html": [
       "<div>\n",
       "<style scoped>\n",
       "    .dataframe tbody tr th:only-of-type {\n",
       "        vertical-align: middle;\n",
       "    }\n",
       "\n",
       "    .dataframe tbody tr th {\n",
       "        vertical-align: top;\n",
       "    }\n",
       "\n",
       "    .dataframe thead th {\n",
       "        text-align: right;\n",
       "    }\n",
       "</style>\n",
       "<table border=\"1\" class=\"dataframe\">\n",
       "  <thead>\n",
       "    <tr style=\"text-align: right;\">\n",
       "      <th></th>\n",
       "      <th>AGE1</th>\n",
       "      <th>METRO3</th>\n",
       "      <th>REGION</th>\n",
       "      <th>FMR</th>\n",
       "      <th>BUILT</th>\n",
       "      <th>TYPE</th>\n",
       "      <th>VALUE</th>\n",
       "      <th>NUNITS</th>\n",
       "      <th>ROOMS</th>\n",
       "      <th>PER</th>\n",
       "      <th>ZINC2</th>\n",
       "      <th>ZADEQ</th>\n",
       "      <th>STRUCTURETYPE</th>\n",
       "      <th>OWNRENT</th>\n",
       "      <th>ASSISTED</th>\n",
       "      <th>Burden_Val</th>\n",
       "    </tr>\n",
       "  </thead>\n",
       "  <tbody>\n",
       "    <tr>\n",
       "      <th>0</th>\n",
       "      <td>0.860759</td>\n",
       "      <td>3</td>\n",
       "      <td>1</td>\n",
       "      <td>0.207687</td>\n",
       "      <td>0.074468</td>\n",
       "      <td>1</td>\n",
       "      <td>0.114283</td>\n",
       "      <td>0.007960</td>\n",
       "      <td>0.384615</td>\n",
       "      <td>0.000000</td>\n",
       "      <td>0.120445</td>\n",
       "      <td>0.0</td>\n",
       "      <td>1</td>\n",
       "      <td>1</td>\n",
       "      <td>0</td>\n",
       "      <td>1</td>\n",
       "    </tr>\n",
       "    <tr>\n",
       "      <th>1</th>\n",
       "      <td>0.455696</td>\n",
       "      <td>5</td>\n",
       "      <td>3</td>\n",
       "      <td>0.260902</td>\n",
       "      <td>0.351064</td>\n",
       "      <td>1</td>\n",
       "      <td>0.371427</td>\n",
       "      <td>0.007960</td>\n",
       "      <td>0.384615</td>\n",
       "      <td>0.214286</td>\n",
       "      <td>0.819802</td>\n",
       "      <td>0.0</td>\n",
       "      <td>1</td>\n",
       "      <td>1</td>\n",
       "      <td>0</td>\n",
       "      <td>0</td>\n",
       "    </tr>\n",
       "    <tr>\n",
       "      <th>2</th>\n",
       "      <td>0.493671</td>\n",
       "      <td>5</td>\n",
       "      <td>3</td>\n",
       "      <td>0.260902</td>\n",
       "      <td>0.297872</td>\n",
       "      <td>1</td>\n",
       "      <td>0.428570</td>\n",
       "      <td>0.007960</td>\n",
       "      <td>0.461538</td>\n",
       "      <td>0.071429</td>\n",
       "      <td>0.186775</td>\n",
       "      <td>0.0</td>\n",
       "      <td>1</td>\n",
       "      <td>1</td>\n",
       "      <td>0</td>\n",
       "      <td>1</td>\n",
       "    </tr>\n",
       "    <tr>\n",
       "      <th>3</th>\n",
       "      <td>0.670886</td>\n",
       "      <td>5</td>\n",
       "      <td>3</td>\n",
       "      <td>0.205100</td>\n",
       "      <td>0.297872</td>\n",
       "      <td>1</td>\n",
       "      <td>0.571427</td>\n",
       "      <td>0.007960</td>\n",
       "      <td>0.384615</td>\n",
       "      <td>0.071429</td>\n",
       "      <td>0.215072</td>\n",
       "      <td>0.0</td>\n",
       "      <td>1</td>\n",
       "      <td>1</td>\n",
       "      <td>0</td>\n",
       "      <td>0</td>\n",
       "    </tr>\n",
       "    <tr>\n",
       "      <th>4</th>\n",
       "      <td>0.151899</td>\n",
       "      <td>1</td>\n",
       "      <td>3</td>\n",
       "      <td>0.126755</td>\n",
       "      <td>0.351064</td>\n",
       "      <td>1</td>\n",
       "      <td>0.171426</td>\n",
       "      <td>0.106468</td>\n",
       "      <td>0.230769</td>\n",
       "      <td>0.071429</td>\n",
       "      <td>0.645949</td>\n",
       "      <td>0.0</td>\n",
       "      <td>5</td>\n",
       "      <td>2</td>\n",
       "      <td>0</td>\n",
       "      <td>0</td>\n",
       "    </tr>\n",
       "  </tbody>\n",
       "</table>\n",
       "</div>"
      ],
      "text/plain": [
       "       AGE1 METRO3 REGION       FMR     BUILT TYPE     VALUE    NUNITS  \\\n",
       "0  0.860759      3      1  0.207687  0.074468    1  0.114283  0.007960   \n",
       "1  0.455696      5      3  0.260902  0.351064    1  0.371427  0.007960   \n",
       "2  0.493671      5      3  0.260902  0.297872    1  0.428570  0.007960   \n",
       "3  0.670886      5      3  0.205100  0.297872    1  0.571427  0.007960   \n",
       "4  0.151899      1      3  0.126755  0.351064    1  0.171426  0.106468   \n",
       "\n",
       "      ROOMS       PER     ZINC2  ZADEQ STRUCTURETYPE OWNRENT ASSISTED  \\\n",
       "0  0.384615  0.000000  0.120445    0.0             1       1        0   \n",
       "1  0.384615  0.214286  0.819802    0.0             1       1        0   \n",
       "2  0.461538  0.071429  0.186775    0.0             1       1        0   \n",
       "3  0.384615  0.071429  0.215072    0.0             1       1        0   \n",
       "4  0.230769  0.071429  0.645949    0.0             5       2        0   \n",
       "\n",
       "  Burden_Val  \n",
       "0          1  \n",
       "1          0  \n",
       "2          1  \n",
       "3          0  \n",
       "4          0  "
      ]
     },
     "execution_count": 54,
     "metadata": {},
     "output_type": "execute_result"
    }
   ],
   "source": [
    "X.head()"
   ]
  },
  {
   "cell_type": "code",
   "execution_count": 55,
   "metadata": {},
   "outputs": [],
   "source": [
    "y = X.Burden_Val"
   ]
  },
  {
   "cell_type": "code",
   "execution_count": 56,
   "metadata": {},
   "outputs": [],
   "source": [
    "X = X[X.columns[:-1]]\n"
   ]
  },
  {
   "cell_type": "code",
   "execution_count": 57,
   "metadata": {},
   "outputs": [],
   "source": [
    "y = y.astype('int')"
   ]
  },
  {
   "cell_type": "code",
   "execution_count": 58,
   "metadata": {},
   "outputs": [],
   "source": [
    "X = pd.get_dummies(X)"
   ]
  },
  {
   "cell_type": "code",
   "execution_count": 59,
   "metadata": {
    "scrolled": true
   },
   "outputs": [
    {
     "data": {
      "text/html": [
       "<div>\n",
       "<style scoped>\n",
       "    .dataframe tbody tr th:only-of-type {\n",
       "        vertical-align: middle;\n",
       "    }\n",
       "\n",
       "    .dataframe tbody tr th {\n",
       "        vertical-align: top;\n",
       "    }\n",
       "\n",
       "    .dataframe thead th {\n",
       "        text-align: right;\n",
       "    }\n",
       "</style>\n",
       "<table border=\"1\" class=\"dataframe\">\n",
       "  <thead>\n",
       "    <tr style=\"text-align: right;\">\n",
       "      <th></th>\n",
       "      <th>AGE1</th>\n",
       "      <th>FMR</th>\n",
       "      <th>BUILT</th>\n",
       "      <th>VALUE</th>\n",
       "      <th>NUNITS</th>\n",
       "      <th>ROOMS</th>\n",
       "      <th>PER</th>\n",
       "      <th>ZINC2</th>\n",
       "      <th>ZADEQ</th>\n",
       "      <th>METRO3_1</th>\n",
       "      <th>...</th>\n",
       "      <th>STRUCTURETYPE_1</th>\n",
       "      <th>STRUCTURETYPE_2</th>\n",
       "      <th>STRUCTURETYPE_3</th>\n",
       "      <th>STRUCTURETYPE_4</th>\n",
       "      <th>STRUCTURETYPE_5</th>\n",
       "      <th>STRUCTURETYPE_6</th>\n",
       "      <th>OWNRENT_1</th>\n",
       "      <th>OWNRENT_2</th>\n",
       "      <th>ASSISTED_0</th>\n",
       "      <th>ASSISTED_1</th>\n",
       "    </tr>\n",
       "  </thead>\n",
       "  <tbody>\n",
       "    <tr>\n",
       "      <th>0</th>\n",
       "      <td>0.860759</td>\n",
       "      <td>0.207687</td>\n",
       "      <td>0.074468</td>\n",
       "      <td>0.114283</td>\n",
       "      <td>0.007960</td>\n",
       "      <td>0.384615</td>\n",
       "      <td>0.000000</td>\n",
       "      <td>0.120445</td>\n",
       "      <td>0.0</td>\n",
       "      <td>0</td>\n",
       "      <td>...</td>\n",
       "      <td>1</td>\n",
       "      <td>0</td>\n",
       "      <td>0</td>\n",
       "      <td>0</td>\n",
       "      <td>0</td>\n",
       "      <td>0</td>\n",
       "      <td>1</td>\n",
       "      <td>0</td>\n",
       "      <td>1</td>\n",
       "      <td>0</td>\n",
       "    </tr>\n",
       "    <tr>\n",
       "      <th>1</th>\n",
       "      <td>0.455696</td>\n",
       "      <td>0.260902</td>\n",
       "      <td>0.351064</td>\n",
       "      <td>0.371427</td>\n",
       "      <td>0.007960</td>\n",
       "      <td>0.384615</td>\n",
       "      <td>0.214286</td>\n",
       "      <td>0.819802</td>\n",
       "      <td>0.0</td>\n",
       "      <td>0</td>\n",
       "      <td>...</td>\n",
       "      <td>1</td>\n",
       "      <td>0</td>\n",
       "      <td>0</td>\n",
       "      <td>0</td>\n",
       "      <td>0</td>\n",
       "      <td>0</td>\n",
       "      <td>1</td>\n",
       "      <td>0</td>\n",
       "      <td>1</td>\n",
       "      <td>0</td>\n",
       "    </tr>\n",
       "    <tr>\n",
       "      <th>2</th>\n",
       "      <td>0.493671</td>\n",
       "      <td>0.260902</td>\n",
       "      <td>0.297872</td>\n",
       "      <td>0.428570</td>\n",
       "      <td>0.007960</td>\n",
       "      <td>0.461538</td>\n",
       "      <td>0.071429</td>\n",
       "      <td>0.186775</td>\n",
       "      <td>0.0</td>\n",
       "      <td>0</td>\n",
       "      <td>...</td>\n",
       "      <td>1</td>\n",
       "      <td>0</td>\n",
       "      <td>0</td>\n",
       "      <td>0</td>\n",
       "      <td>0</td>\n",
       "      <td>0</td>\n",
       "      <td>1</td>\n",
       "      <td>0</td>\n",
       "      <td>1</td>\n",
       "      <td>0</td>\n",
       "    </tr>\n",
       "    <tr>\n",
       "      <th>3</th>\n",
       "      <td>0.670886</td>\n",
       "      <td>0.205100</td>\n",
       "      <td>0.297872</td>\n",
       "      <td>0.571427</td>\n",
       "      <td>0.007960</td>\n",
       "      <td>0.384615</td>\n",
       "      <td>0.071429</td>\n",
       "      <td>0.215072</td>\n",
       "      <td>0.0</td>\n",
       "      <td>0</td>\n",
       "      <td>...</td>\n",
       "      <td>1</td>\n",
       "      <td>0</td>\n",
       "      <td>0</td>\n",
       "      <td>0</td>\n",
       "      <td>0</td>\n",
       "      <td>0</td>\n",
       "      <td>1</td>\n",
       "      <td>0</td>\n",
       "      <td>1</td>\n",
       "      <td>0</td>\n",
       "    </tr>\n",
       "    <tr>\n",
       "      <th>4</th>\n",
       "      <td>0.151899</td>\n",
       "      <td>0.126755</td>\n",
       "      <td>0.351064</td>\n",
       "      <td>0.171426</td>\n",
       "      <td>0.106468</td>\n",
       "      <td>0.230769</td>\n",
       "      <td>0.071429</td>\n",
       "      <td>0.645949</td>\n",
       "      <td>0.0</td>\n",
       "      <td>1</td>\n",
       "      <td>...</td>\n",
       "      <td>0</td>\n",
       "      <td>0</td>\n",
       "      <td>0</td>\n",
       "      <td>0</td>\n",
       "      <td>1</td>\n",
       "      <td>0</td>\n",
       "      <td>0</td>\n",
       "      <td>1</td>\n",
       "      <td>1</td>\n",
       "      <td>0</td>\n",
       "    </tr>\n",
       "  </tbody>\n",
       "</table>\n",
       "<p>5 rows × 36 columns</p>\n",
       "</div>"
      ],
      "text/plain": [
       "       AGE1       FMR     BUILT     VALUE    NUNITS     ROOMS       PER  \\\n",
       "0  0.860759  0.207687  0.074468  0.114283  0.007960  0.384615  0.000000   \n",
       "1  0.455696  0.260902  0.351064  0.371427  0.007960  0.384615  0.214286   \n",
       "2  0.493671  0.260902  0.297872  0.428570  0.007960  0.461538  0.071429   \n",
       "3  0.670886  0.205100  0.297872  0.571427  0.007960  0.384615  0.071429   \n",
       "4  0.151899  0.126755  0.351064  0.171426  0.106468  0.230769  0.071429   \n",
       "\n",
       "      ZINC2  ZADEQ  METRO3_1     ...      STRUCTURETYPE_1  STRUCTURETYPE_2  \\\n",
       "0  0.120445    0.0         0     ...                    1                0   \n",
       "1  0.819802    0.0         0     ...                    1                0   \n",
       "2  0.186775    0.0         0     ...                    1                0   \n",
       "3  0.215072    0.0         0     ...                    1                0   \n",
       "4  0.645949    0.0         1     ...                    0                0   \n",
       "\n",
       "   STRUCTURETYPE_3  STRUCTURETYPE_4  STRUCTURETYPE_5  STRUCTURETYPE_6  \\\n",
       "0                0                0                0                0   \n",
       "1                0                0                0                0   \n",
       "2                0                0                0                0   \n",
       "3                0                0                0                0   \n",
       "4                0                0                1                0   \n",
       "\n",
       "   OWNRENT_1  OWNRENT_2  ASSISTED_0  ASSISTED_1  \n",
       "0          1          0           1           0  \n",
       "1          1          0           1           0  \n",
       "2          1          0           1           0  \n",
       "3          1          0           1           0  \n",
       "4          0          1           1           0  \n",
       "\n",
       "[5 rows x 36 columns]"
      ]
     },
     "execution_count": 59,
     "metadata": {},
     "output_type": "execute_result"
    }
   ],
   "source": [
    "X.head()"
   ]
  },
  {
   "cell_type": "code",
   "execution_count": 60,
   "metadata": {},
   "outputs": [],
   "source": [
    "X_train, X_test, y_train, y_test = train_test_split(X, y, random_state=0)"
   ]
  },
  {
   "cell_type": "code",
   "execution_count": 61,
   "metadata": {},
   "outputs": [],
   "source": [
    "from sklearn.feature_selection import RFE"
   ]
  },
  {
   "cell_type": "code",
   "execution_count": 62,
   "metadata": {
    "scrolled": true
   },
   "outputs": [
    {
     "name": "stdout",
     "output_type": "stream",
     "text": [
      "Warning: Maximum number of iterations has been exceeded.\n",
      "         Current function value: 0.434925\n",
      "         Iterations: 35\n",
      "                                 Results: Logit\n",
      "================================================================================\n",
      "Model:                   Logit                 Pseudo R-squared:      0.353     \n",
      "Dependent Variable:      Burden_Val            AIC:                   43246.3091\n",
      "Date:                    2019-07-10 12:25      BIC:                   43510.6905\n",
      "No. Observations:        49648                 Log-Likelihood:        -21593.   \n",
      "Df Model:                29                    LL-Null:               -33393.   \n",
      "Df Residuals:            49618                 LLR p-value:           0.0000    \n",
      "Converged:               0.0000                Scale:                 1.0000    \n",
      "No. Iterations:          35.0000                                                \n",
      "--------------------------------------------------------------------------------\n",
      "                 Coef.     Std.Err.      z     P>|z|      [0.025       0.975]   \n",
      "--------------------------------------------------------------------------------\n",
      "AGE1             -1.0975       0.0596 -18.4266 0.0000       -1.2142      -0.9808\n",
      "FMR               3.6293       0.1508  24.0718 0.0000        3.3338       3.9248\n",
      "BUILT            -0.5823       0.0494 -11.7868 0.0000       -0.6791      -0.4854\n",
      "VALUE             2.6551       0.0816  32.5242 0.0000        2.4951       2.8151\n",
      "NUNITS            1.1492       0.3331   3.4499 0.0006        0.4963       1.8020\n",
      "ROOMS             0.4651       0.1475   3.1536 0.0016        0.1761       0.7542\n",
      "PER               1.1581       0.1397   8.2902 0.0000        0.8843       1.4319\n",
      "ZINC2           -11.0923       0.1121 -98.9203 0.0000      -11.3121     -10.8725\n",
      "ZADEQ            -0.0138       0.0676  -0.2042 0.8382       -0.1464       0.1188\n",
      "METRO3_1          1.2270          nan      nan    nan           nan          nan\n",
      "METRO3_2          1.3210          nan      nan    nan           nan          nan\n",
      "METRO3_3          0.9615          nan      nan    nan           nan          nan\n",
      "METRO3_4          1.1033          nan      nan    nan           nan          nan\n",
      "METRO3_5          0.7571          nan      nan    nan           nan          nan\n",
      "REGION_1         -0.1971          nan      nan    nan           nan          nan\n",
      "REGION_2         -0.3614          nan      nan    nan           nan          nan\n",
      "REGION_3         -0.5843          nan      nan    nan           nan          nan\n",
      "REGION_4         -0.5209          nan      nan    nan           nan          nan\n",
      "TYPE_1           -1.8521          nan      nan    nan           nan          nan\n",
      "TYPE_2           -0.5034 2113058.4384  -0.0000 1.0000 -4141518.9398 4141517.9330\n",
      "TYPE_3           -0.5836 2128595.3151  -0.0000 1.0000 -4171970.7389 4171969.5718\n",
      "TYPE_4           -4.6359          nan      nan    nan           nan          nan\n",
      "TYPE_5           15.2127          nan      nan    nan           nan          nan\n",
      "TYPE_6           -1.4682          nan      nan    nan           nan          nan\n",
      "TYPE_7           -3.1402          nan      nan    nan           nan          nan\n",
      "TYPE_9           -1.5672          nan      nan    nan           nan          nan\n",
      "STRUCTURETYPE_1   0.3410  491535.3525   0.0000 1.0000  -963391.2470  963391.9290\n",
      "STRUCTURETYPE_2   0.5361  463913.7982   0.0000 1.0000  -909253.8002  909254.8725\n",
      "STRUCTURETYPE_3   0.4813  512552.1869   0.0000 1.0000 -1004583.3452 1004584.3078\n",
      "STRUCTURETYPE_4   0.5334  526345.2324   0.0000 1.0000 -1031617.1654 1031618.2323\n",
      "STRUCTURETYPE_5   0.6574  517600.9148   0.0000 1.0000 -1014478.4940 1014479.8087\n",
      "STRUCTURETYPE_6  -1.0869 2031245.1557  -0.0000 1.0000 -3981168.4359 3981166.2620\n",
      "OWNRENT_1         0.3193  519238.9913   0.0000 1.0000 -1017689.4030 1017690.0416\n",
      "OWNRENT_2         1.1430  519631.9046   0.0000 1.0000 -1018458.6752 1018460.9611\n",
      "ASSISTED_0        1.4446          nan      nan    nan           nan          nan\n",
      "ASSISTED_1        0.0177          nan      nan    nan           nan          nan\n",
      "================================================================================\n",
      "\n"
     ]
    }
   ],
   "source": [
    "import statsmodels.api as sm\n",
    "logit_model = sm.Logit(y, X)\n",
    "result = logit_model.fit()\n",
    "print(result.summary2())"
   ]
  },
  {
   "cell_type": "code",
   "execution_count": 63,
   "metadata": {},
   "outputs": [],
   "source": [
    "X_2 = df.drop([\"ZADEQ\",\"METRO3\", \"REGION\", \"TYPE\",\"OWNRENT\", \"ASSISTED\", \"STRUCTURETYPE\"], axis =1)"
   ]
  },
  {
   "cell_type": "code",
   "execution_count": 64,
   "metadata": {},
   "outputs": [
    {
     "data": {
      "text/html": [
       "<div>\n",
       "<style scoped>\n",
       "    .dataframe tbody tr th:only-of-type {\n",
       "        vertical-align: middle;\n",
       "    }\n",
       "\n",
       "    .dataframe tbody tr th {\n",
       "        vertical-align: top;\n",
       "    }\n",
       "\n",
       "    .dataframe thead th {\n",
       "        text-align: right;\n",
       "    }\n",
       "</style>\n",
       "<table border=\"1\" class=\"dataframe\">\n",
       "  <thead>\n",
       "    <tr style=\"text-align: right;\">\n",
       "      <th></th>\n",
       "      <th>AGE1</th>\n",
       "      <th>FMR</th>\n",
       "      <th>BUILT</th>\n",
       "      <th>VALUE</th>\n",
       "      <th>NUNITS</th>\n",
       "      <th>ROOMS</th>\n",
       "      <th>PER</th>\n",
       "      <th>ZINC2</th>\n",
       "      <th>Burden_Val</th>\n",
       "    </tr>\n",
       "  </thead>\n",
       "  <tbody>\n",
       "    <tr>\n",
       "      <th>0</th>\n",
       "      <td>0.860759</td>\n",
       "      <td>0.207687</td>\n",
       "      <td>0.074468</td>\n",
       "      <td>0.114283</td>\n",
       "      <td>0.007960</td>\n",
       "      <td>0.384615</td>\n",
       "      <td>0.000000</td>\n",
       "      <td>0.120445</td>\n",
       "      <td>1</td>\n",
       "    </tr>\n",
       "    <tr>\n",
       "      <th>1</th>\n",
       "      <td>0.455696</td>\n",
       "      <td>0.260902</td>\n",
       "      <td>0.351064</td>\n",
       "      <td>0.371427</td>\n",
       "      <td>0.007960</td>\n",
       "      <td>0.384615</td>\n",
       "      <td>0.214286</td>\n",
       "      <td>0.819802</td>\n",
       "      <td>0</td>\n",
       "    </tr>\n",
       "    <tr>\n",
       "      <th>2</th>\n",
       "      <td>0.493671</td>\n",
       "      <td>0.260902</td>\n",
       "      <td>0.297872</td>\n",
       "      <td>0.428570</td>\n",
       "      <td>0.007960</td>\n",
       "      <td>0.461538</td>\n",
       "      <td>0.071429</td>\n",
       "      <td>0.186775</td>\n",
       "      <td>1</td>\n",
       "    </tr>\n",
       "    <tr>\n",
       "      <th>3</th>\n",
       "      <td>0.670886</td>\n",
       "      <td>0.205100</td>\n",
       "      <td>0.297872</td>\n",
       "      <td>0.571427</td>\n",
       "      <td>0.007960</td>\n",
       "      <td>0.384615</td>\n",
       "      <td>0.071429</td>\n",
       "      <td>0.215072</td>\n",
       "      <td>0</td>\n",
       "    </tr>\n",
       "    <tr>\n",
       "      <th>4</th>\n",
       "      <td>0.151899</td>\n",
       "      <td>0.126755</td>\n",
       "      <td>0.351064</td>\n",
       "      <td>0.171426</td>\n",
       "      <td>0.106468</td>\n",
       "      <td>0.230769</td>\n",
       "      <td>0.071429</td>\n",
       "      <td>0.645949</td>\n",
       "      <td>0</td>\n",
       "    </tr>\n",
       "  </tbody>\n",
       "</table>\n",
       "</div>"
      ],
      "text/plain": [
       "       AGE1       FMR     BUILT     VALUE    NUNITS     ROOMS       PER  \\\n",
       "0  0.860759  0.207687  0.074468  0.114283  0.007960  0.384615  0.000000   \n",
       "1  0.455696  0.260902  0.351064  0.371427  0.007960  0.384615  0.214286   \n",
       "2  0.493671  0.260902  0.297872  0.428570  0.007960  0.461538  0.071429   \n",
       "3  0.670886  0.205100  0.297872  0.571427  0.007960  0.384615  0.071429   \n",
       "4  0.151899  0.126755  0.351064  0.171426  0.106468  0.230769  0.071429   \n",
       "\n",
       "      ZINC2 Burden_Val  \n",
       "0  0.120445          1  \n",
       "1  0.819802          0  \n",
       "2  0.186775          1  \n",
       "3  0.215072          0  \n",
       "4  0.645949          0  "
      ]
     },
     "execution_count": 64,
     "metadata": {},
     "output_type": "execute_result"
    }
   ],
   "source": [
    "X_2.head()"
   ]
  },
  {
   "cell_type": "code",
   "execution_count": 65,
   "metadata": {},
   "outputs": [],
   "source": [
    "y_2 = X_2.Burden_Val"
   ]
  },
  {
   "cell_type": "code",
   "execution_count": 66,
   "metadata": {},
   "outputs": [],
   "source": [
    "y = y.astype('int')"
   ]
  },
  {
   "cell_type": "code",
   "execution_count": 67,
   "metadata": {},
   "outputs": [
    {
     "data": {
      "text/html": [
       "<div>\n",
       "<style scoped>\n",
       "    .dataframe tbody tr th:only-of-type {\n",
       "        vertical-align: middle;\n",
       "    }\n",
       "\n",
       "    .dataframe tbody tr th {\n",
       "        vertical-align: top;\n",
       "    }\n",
       "\n",
       "    .dataframe thead th {\n",
       "        text-align: right;\n",
       "    }\n",
       "</style>\n",
       "<table border=\"1\" class=\"dataframe\">\n",
       "  <thead>\n",
       "    <tr style=\"text-align: right;\">\n",
       "      <th></th>\n",
       "      <th>AGE1</th>\n",
       "      <th>FMR</th>\n",
       "      <th>BUILT</th>\n",
       "      <th>VALUE</th>\n",
       "      <th>NUNITS</th>\n",
       "      <th>ROOMS</th>\n",
       "      <th>PER</th>\n",
       "      <th>ZINC2</th>\n",
       "      <th>Burden_Val</th>\n",
       "    </tr>\n",
       "  </thead>\n",
       "  <tbody>\n",
       "    <tr>\n",
       "      <th>0</th>\n",
       "      <td>0.860759</td>\n",
       "      <td>0.207687</td>\n",
       "      <td>0.074468</td>\n",
       "      <td>0.114283</td>\n",
       "      <td>0.007960</td>\n",
       "      <td>0.384615</td>\n",
       "      <td>0.000000</td>\n",
       "      <td>0.120445</td>\n",
       "      <td>1</td>\n",
       "    </tr>\n",
       "    <tr>\n",
       "      <th>1</th>\n",
       "      <td>0.455696</td>\n",
       "      <td>0.260902</td>\n",
       "      <td>0.351064</td>\n",
       "      <td>0.371427</td>\n",
       "      <td>0.007960</td>\n",
       "      <td>0.384615</td>\n",
       "      <td>0.214286</td>\n",
       "      <td>0.819802</td>\n",
       "      <td>0</td>\n",
       "    </tr>\n",
       "    <tr>\n",
       "      <th>2</th>\n",
       "      <td>0.493671</td>\n",
       "      <td>0.260902</td>\n",
       "      <td>0.297872</td>\n",
       "      <td>0.428570</td>\n",
       "      <td>0.007960</td>\n",
       "      <td>0.461538</td>\n",
       "      <td>0.071429</td>\n",
       "      <td>0.186775</td>\n",
       "      <td>1</td>\n",
       "    </tr>\n",
       "    <tr>\n",
       "      <th>3</th>\n",
       "      <td>0.670886</td>\n",
       "      <td>0.205100</td>\n",
       "      <td>0.297872</td>\n",
       "      <td>0.571427</td>\n",
       "      <td>0.007960</td>\n",
       "      <td>0.384615</td>\n",
       "      <td>0.071429</td>\n",
       "      <td>0.215072</td>\n",
       "      <td>0</td>\n",
       "    </tr>\n",
       "    <tr>\n",
       "      <th>4</th>\n",
       "      <td>0.151899</td>\n",
       "      <td>0.126755</td>\n",
       "      <td>0.351064</td>\n",
       "      <td>0.171426</td>\n",
       "      <td>0.106468</td>\n",
       "      <td>0.230769</td>\n",
       "      <td>0.071429</td>\n",
       "      <td>0.645949</td>\n",
       "      <td>0</td>\n",
       "    </tr>\n",
       "  </tbody>\n",
       "</table>\n",
       "</div>"
      ],
      "text/plain": [
       "       AGE1       FMR     BUILT     VALUE    NUNITS     ROOMS       PER  \\\n",
       "0  0.860759  0.207687  0.074468  0.114283  0.007960  0.384615  0.000000   \n",
       "1  0.455696  0.260902  0.351064  0.371427  0.007960  0.384615  0.214286   \n",
       "2  0.493671  0.260902  0.297872  0.428570  0.007960  0.461538  0.071429   \n",
       "3  0.670886  0.205100  0.297872  0.571427  0.007960  0.384615  0.071429   \n",
       "4  0.151899  0.126755  0.351064  0.171426  0.106468  0.230769  0.071429   \n",
       "\n",
       "      ZINC2 Burden_Val  \n",
       "0  0.120445          1  \n",
       "1  0.819802          0  \n",
       "2  0.186775          1  \n",
       "3  0.215072          0  \n",
       "4  0.645949          0  "
      ]
     },
     "execution_count": 67,
     "metadata": {},
     "output_type": "execute_result"
    }
   ],
   "source": [
    "X_2.head()"
   ]
  },
  {
   "cell_type": "code",
   "execution_count": 68,
   "metadata": {},
   "outputs": [],
   "source": [
    "X_2 = X_2[X_2.columns[:-1]]"
   ]
  },
  {
   "cell_type": "code",
   "execution_count": 69,
   "metadata": {},
   "outputs": [],
   "source": [
    "X_2 = pd.get_dummies(X_2)"
   ]
  },
  {
   "cell_type": "code",
   "execution_count": 70,
   "metadata": {},
   "outputs": [],
   "source": [
    "X_train_2, X_test_2, y_train_2, y_test_2 = train_test_split(X_2, y_2, random_state=0)"
   ]
  },
  {
   "cell_type": "code",
   "execution_count": 71,
   "metadata": {
    "scrolled": true
   },
   "outputs": [
    {
     "data": {
      "text/plain": [
       "LogisticRegression(C=1000000000000.0, class_weight=None, dual=False,\n",
       "          fit_intercept=False, intercept_scaling=1, max_iter=100,\n",
       "          multi_class='warn', n_jobs=None, penalty='l2', random_state=None,\n",
       "          solver='warn', tol=0.0001, verbose=0, warm_start=False)"
      ]
     },
     "execution_count": 71,
     "metadata": {},
     "output_type": "execute_result"
    }
   ],
   "source": [
    "logreg_2 = LogisticRegression(fit_intercept = False, C = 1e12) \n",
    "model_log_2 = logreg_2.fit(X_train_2, y_train_2)\n",
    "model_log_2"
   ]
  },
  {
   "cell_type": "code",
   "execution_count": 72,
   "metadata": {},
   "outputs": [
    {
     "name": "stdout",
     "output_type": "stream",
     "text": [
      "Optimization terminated successfully.\n",
      "         Current function value: 0.463866\n",
      "         Iterations 7\n",
      "                         Results: Logit\n",
      "=================================================================\n",
      "Model:              Logit            Pseudo R-squared: 0.310     \n",
      "Dependent Variable: Burden_Val       AIC:              46076.0543\n",
      "Date:               2019-07-10 12:25 BIC:              46146.5560\n",
      "No. Observations:   49648            Log-Likelihood:   -23030.   \n",
      "Df Model:           7                LL-Null:          -33393.   \n",
      "Df Residuals:       49640            LLR p-value:      0.0000    \n",
      "Converged:          1.0000           Scale:            1.0000    \n",
      "No. Iterations:     7.0000                                       \n",
      "-------------------------------------------------------------------\n",
      "          Coef.    Std.Err.      z       P>|z|     [0.025    0.975]\n",
      "-------------------------------------------------------------------\n",
      "AGE1     -0.7038     0.0470   -14.9589   0.0000   -0.7960   -0.6116\n",
      "FMR       4.9155     0.1138    43.2045   0.0000    4.6925    5.1384\n",
      "BUILT     0.3567     0.0380     9.3942   0.0000    0.2823    0.4311\n",
      "VALUE     1.8700     0.0684    27.3238   0.0000    1.7358    2.0041\n",
      "NUNITS    3.2770     0.2290    14.3079   0.0000    2.8281    3.7259\n",
      "ROOMS     0.3855     0.1096     3.5176   0.0004    0.1707    0.6002\n",
      "PER       1.3205     0.1308    10.0986   0.0000    1.0642    1.5768\n",
      "ZINC2    -9.3747     0.0948   -98.8432   0.0000   -9.5606   -9.1888\n",
      "=================================================================\n",
      "\n"
     ]
    }
   ],
   "source": [
    "import statsmodels.api as sm\n",
    "logit_model = sm.Logit(y, X_2)\n",
    "result = logit_model.fit()\n",
    "print(result.summary2())"
   ]
  },
  {
   "cell_type": "markdown",
   "metadata": {},
   "source": [
    "## Evaluate the Regression\n",
    "\n",
    "Below are functions that calculate the Precision, Recall and Accuracy of our model:"
   ]
  },
  {
   "cell_type": "code",
   "execution_count": 73,
   "metadata": {},
   "outputs": [],
   "source": [
    "y_pred = logreg_2.predict(X_test_2)"
   ]
  },
  {
   "cell_type": "code",
   "execution_count": 74,
   "metadata": {},
   "outputs": [
    {
     "name": "stdout",
     "output_type": "stream",
     "text": [
      "              precision    recall  f1-score   support\n",
      "\n",
      "           0       0.80      0.82      0.81      7496\n",
      "           1       0.71      0.70      0.71      4916\n",
      "\n",
      "   micro avg       0.77      0.77      0.77     12412\n",
      "   macro avg       0.76      0.76      0.76     12412\n",
      "weighted avg       0.77      0.77      0.77     12412\n",
      "\n"
     ]
    }
   ],
   "source": [
    "from sklearn.metrics import classification_report\n",
    "print(classification_report(y_test_2, y_pred))"
   ]
  },
  {
   "cell_type": "code",
   "execution_count": 75,
   "metadata": {},
   "outputs": [
    {
     "name": "stdout",
     "output_type": "stream",
     "text": [
      "Accuracy on test set is: 0.77\n"
     ]
    }
   ],
   "source": [
    "print('Accuracy on test set is: {:.2f}'.format(logreg_2.score(X_test_2, y_test_2)))"
   ]
  },
  {
   "cell_type": "markdown",
   "metadata": {},
   "source": [
    "Another way to view the results of the regression are a confusion matrix, which is calculated and visulized below. "
   ]
  },
  {
   "cell_type": "code",
   "execution_count": 76,
   "metadata": {},
   "outputs": [
    {
     "name": "stdout",
     "output_type": "stream",
     "text": [
      "Confusion Matrix:\n",
      " [[6127 1369]\n",
      " [1488 3428]]\n"
     ]
    }
   ],
   "source": [
    "from sklearn.metrics import confusion_matrix\n",
    "\n",
    "cnf_matrix = confusion_matrix(y_test_2, y_pred)\n",
    "print('Confusion Matrix:\\n',cnf_matrix)"
   ]
  },
  {
   "cell_type": "code",
   "execution_count": 77,
   "metadata": {
    "scrolled": true
   },
   "outputs": [
    {
     "data": {
      "text/plain": [
       "<matplotlib.colorbar.Colorbar at 0x1c1f37ee10>"
      ]
     },
     "execution_count": 77,
     "metadata": {},
     "output_type": "execute_result"
    },
    {
     "data": {
      "image/png": "[encoded data removed]",
      "text/plain": [
       "<Figure size 432x288 with 2 Axes>"
      ]
     },
     "metadata": {
      "needs_background": "light"
     },
     "output_type": "display_data"
    }
   ],
   "source": [
    "import numpy as np\n",
    "import itertools\n",
    "import matplotlib.pyplot as plt\n",
    "%matplotlib inline\n",
    "\n",
    "plt.imshow(cnf_matrix,  cmap=plt.cm.Blues) #Create the basic matrix.\n",
    "\n",
    "#Add title and Axis Labels\n",
    "plt.title('Confusion Matrix')\n",
    "plt.ylabel('True label')\n",
    "plt.xlabel('Predicted label')\n",
    "\n",
    "\n",
    "class_names = set(y) \n",
    "tick_marks = np.arange(len(class_names))\n",
    "plt.xticks(tick_marks, class_names, rotation=45)\n",
    "plt.yticks(tick_marks, class_names)\n",
    "\n",
    "\n",
    "thresh = cnf_matrix.max() \n",
    "for i, j in itertools.product(range(cnf_matrix.shape[0]), range(cnf_matrix.shape[1])):\n",
    "        plt.text(j, i, cnf_matrix[i, j],\n",
    "                 horizontalalignment=\"center\",\n",
    "                 color=\"white\" if cnf_matrix[i, j] > thresh else \"black\")\n",
    "\n",
    "\n",
    "plt.colorbar()"
   ]
  },
  {
   "cell_type": "markdown",
   "metadata": {},
   "source": [
    "The matrix above shows us the false positives and false negatives. This ration is how we will calculate the AUC score, which is below with a visualization. "
   ]
  },
  {
   "cell_type": "markdown",
   "metadata": {},
   "source": [
    "### SMOTE\n",
    "\n",
    "Time to try to balance the data and see if that has an effect. "
   ]
  },
  {
   "cell_type": "code",
   "execution_count": 79,
   "metadata": {},
   "outputs": [
    {
     "name": "stdout",
     "output_type": "stream",
     "text": [
      "0    22344\n",
      "1    22344\n",
      "dtype: int64\n",
      "\n"
     ]
    }
   ],
   "source": [
    "sm = SMOTE(random_state=0)\n",
    "X_train_resampled, y_train_resampled = sm.fit_sample(X_train_2, y_train_2.ravel())\n",
    "print(pd.Series(y_train_resampled).value_counts())\n",
    "print()"
   ]
  },
  {
   "cell_type": "code",
   "execution_count": 80,
   "metadata": {},
   "outputs": [],
   "source": [
    "X_train2, X_test2, y_train2, y_test2 = train_test_split(X_train_resampled, y_train_resampled, random_state=0)"
   ]
  },
  {
   "cell_type": "code",
   "execution_count": 81,
   "metadata": {},
   "outputs": [
    {
     "data": {
      "text/plain": [
       "LogisticRegression(C=1000000000000.0, class_weight=None, dual=False,\n",
       "          fit_intercept=False, intercept_scaling=1, max_iter=100,\n",
       "          multi_class='warn', n_jobs=None, penalty='l2', random_state=None,\n",
       "          solver='warn', tol=0.0001, verbose=0, warm_start=False)"
      ]
     },
     "execution_count": 81,
     "metadata": {},
     "output_type": "execute_result"
    }
   ],
   "source": [
    "logreg2 = LogisticRegression(fit_intercept = False, C = 1e12)\n",
    "model_log2 = logreg2.fit(X_train2, y_train2)\n",
    "model_log2"
   ]
  },
  {
   "cell_type": "code",
   "execution_count": 82,
   "metadata": {},
   "outputs": [],
   "source": [
    "y_pred2 = logreg2.predict(X_test2)"
   ]
  },
  {
   "cell_type": "code",
   "execution_count": 83,
   "metadata": {},
   "outputs": [
    {
     "name": "stdout",
     "output_type": "stream",
     "text": [
      "              precision    recall  f1-score   support\n",
      "\n",
      "           0       0.79      0.75      0.77      5610\n",
      "           1       0.76      0.80      0.78      5562\n",
      "\n",
      "   micro avg       0.77      0.77      0.77     11172\n",
      "   macro avg       0.77      0.77      0.77     11172\n",
      "weighted avg       0.77      0.77      0.77     11172\n",
      "\n"
     ]
    }
   ],
   "source": [
    "from sklearn.metrics import classification_report\n",
    "print(classification_report(y_test2, y_pred2))"
   ]
  },
  {
   "cell_type": "code",
   "execution_count": 84,
   "metadata": {},
   "outputs": [
    {
     "name": "stdout",
     "output_type": "stream",
     "text": [
      "Accuracy on test set is: 0.77\n"
     ]
    }
   ],
   "source": [
    "print('Accuracy on test set is: {:.2f}'.format(logreg2.score(X_test2, y_test2)))"
   ]
  },
  {
   "cell_type": "markdown",
   "metadata": {},
   "source": [
    "## RANDOM FOREST\n",
    "\n",
    "The next model is a classification model. We will run this, see the accuracy, check important features, and then remove them in a second iteration of Random Forest to see if we can improve our model. Note that first we will refine the features, and then run SMOTE to see the effect of balancing the data. "
   ]
  },
  {
   "cell_type": "code",
   "execution_count": 87,
   "metadata": {},
   "outputs": [
    {
     "data": {
      "text/plain": [
       "RandomForestClassifier(bootstrap=True, class_weight=None, criterion='gini',\n",
       "            max_depth=5, max_features='auto', max_leaf_nodes=None,\n",
       "            min_impurity_decrease=0.0, min_impurity_split=None,\n",
       "            min_samples_leaf=1, min_samples_split=2,\n",
       "            min_weight_fraction_leaf=0.0, n_estimators=100, n_jobs=None,\n",
       "            oob_score=False, random_state=None, verbose=0,\n",
       "            warm_start=False)"
      ]
     },
     "execution_count": 87,
     "metadata": {},
     "output_type": "execute_result"
    }
   ],
   "source": [
    "forest = RandomForestClassifier(n_estimators=100, max_depth= 5)\n",
    "forest.fit(X_train_2, y_train_2)"
   ]
  },
  {
   "cell_type": "code",
   "execution_count": 88,
   "metadata": {},
   "outputs": [
    {
     "data": {
      "text/plain": [
       "0.7815823396712859"
      ]
     },
     "execution_count": 88,
     "metadata": {},
     "output_type": "execute_result"
    }
   ],
   "source": [
    "forest.score(X_train_2, y_train_2)"
   ]
  },
  {
   "cell_type": "code",
   "execution_count": 89,
   "metadata": {},
   "outputs": [
    {
     "data": {
      "text/plain": [
       "0.7715114405414115"
      ]
     },
     "execution_count": 89,
     "metadata": {},
     "output_type": "execute_result"
    }
   ],
   "source": [
    "forest.score(X_test_2, y_test_2)"
   ]
  },
  {
   "cell_type": "code",
   "execution_count": 90,
   "metadata": {},
   "outputs": [
    {
     "data": {
      "text/plain": [
       "array([0.02002335, 0.0460373 , 0.00393028, 0.08272445, 0.05097712,\n",
       "       0.01498175, 0.03633808, 0.74498768])"
      ]
     },
     "execution_count": 90,
     "metadata": {},
     "output_type": "execute_result"
    }
   ],
   "source": [
    "forest.feature_importances_\n"
   ]
  },
  {
   "cell_type": "code",
   "execution_count": 91,
   "metadata": {},
   "outputs": [],
   "source": [
    "def plot_feature_importances(model):\n",
    "    n_features = X_train_2.shape[1]\n",
    "    plt.figure(figsize=(8,8))\n",
    "    plt.barh(range(n_features), model.feature_importances_, align='center') \n",
    "    plt.yticks(np.arange(n_features), X_train_2.columns.values) \n",
    "    plt.xlabel(\"Feature importance\")\n",
    "    plt.ylabel(\"Feature\")"
   ]
  },
  {
   "cell_type": "code",
   "execution_count": 92,
   "metadata": {
    "scrolled": false
   },
   "outputs": [
    {
     "data": {
      "image/png": "[encoded data removed]",
      "text/plain": [
       "<Figure size 576x576 with 1 Axes>"
      ]
     },
     "metadata": {},
     "output_type": "display_data"
    }
   ],
   "source": [
    "plot_feature_importances(forest)"
   ]
  },
  {
   "cell_type": "markdown",
   "metadata": {},
   "source": [
    "## Second Random Forest"
   ]
  },
  {
   "cell_type": "code",
   "execution_count": 93,
   "metadata": {},
   "outputs": [],
   "source": [
    "X2 = df.drop([\"BUILT\", \"AGE1\",\"ZADEQ\",\"METRO3\", \"REGION\", \"TYPE\",\"OWNRENT\", \"ASSISTED\", \"STRUCTURETYPE\"], axis =1)\n"
   ]
  },
  {
   "cell_type": "code",
   "execution_count": 94,
   "metadata": {
    "scrolled": true
   },
   "outputs": [
    {
     "data": {
      "text/html": [
       "<div>\n",
       "<style scoped>\n",
       "    .dataframe tbody tr th:only-of-type {\n",
       "        vertical-align: middle;\n",
       "    }\n",
       "\n",
       "    .dataframe tbody tr th {\n",
       "        vertical-align: top;\n",
       "    }\n",
       "\n",
       "    .dataframe thead th {\n",
       "        text-align: right;\n",
       "    }\n",
       "</style>\n",
       "<table border=\"1\" class=\"dataframe\">\n",
       "  <thead>\n",
       "    <tr style=\"text-align: right;\">\n",
       "      <th></th>\n",
       "      <th>FMR</th>\n",
       "      <th>VALUE</th>\n",
       "      <th>NUNITS</th>\n",
       "      <th>ROOMS</th>\n",
       "      <th>PER</th>\n",
       "      <th>ZINC2</th>\n",
       "      <th>Burden_Val</th>\n",
       "    </tr>\n",
       "  </thead>\n",
       "  <tbody>\n",
       "    <tr>\n",
       "      <th>0</th>\n",
       "      <td>0.207687</td>\n",
       "      <td>0.114283</td>\n",
       "      <td>0.007960</td>\n",
       "      <td>0.384615</td>\n",
       "      <td>0.000000</td>\n",
       "      <td>0.120445</td>\n",
       "      <td>1</td>\n",
       "    </tr>\n",
       "    <tr>\n",
       "      <th>1</th>\n",
       "      <td>0.260902</td>\n",
       "      <td>0.371427</td>\n",
       "      <td>0.007960</td>\n",
       "      <td>0.384615</td>\n",
       "      <td>0.214286</td>\n",
       "      <td>0.819802</td>\n",
       "      <td>0</td>\n",
       "    </tr>\n",
       "    <tr>\n",
       "      <th>2</th>\n",
       "      <td>0.260902</td>\n",
       "      <td>0.428570</td>\n",
       "      <td>0.007960</td>\n",
       "      <td>0.461538</td>\n",
       "      <td>0.071429</td>\n",
       "      <td>0.186775</td>\n",
       "      <td>1</td>\n",
       "    </tr>\n",
       "    <tr>\n",
       "      <th>3</th>\n",
       "      <td>0.205100</td>\n",
       "      <td>0.571427</td>\n",
       "      <td>0.007960</td>\n",
       "      <td>0.384615</td>\n",
       "      <td>0.071429</td>\n",
       "      <td>0.215072</td>\n",
       "      <td>0</td>\n",
       "    </tr>\n",
       "    <tr>\n",
       "      <th>4</th>\n",
       "      <td>0.126755</td>\n",
       "      <td>0.171426</td>\n",
       "      <td>0.106468</td>\n",
       "      <td>0.230769</td>\n",
       "      <td>0.071429</td>\n",
       "      <td>0.645949</td>\n",
       "      <td>0</td>\n",
       "    </tr>\n",
       "  </tbody>\n",
       "</table>\n",
       "</div>"
      ],
      "text/plain": [
       "        FMR     VALUE    NUNITS     ROOMS       PER     ZINC2 Burden_Val\n",
       "0  0.207687  0.114283  0.007960  0.384615  0.000000  0.120445          1\n",
       "1  0.260902  0.371427  0.007960  0.384615  0.214286  0.819802          0\n",
       "2  0.260902  0.428570  0.007960  0.461538  0.071429  0.186775          1\n",
       "3  0.205100  0.571427  0.007960  0.384615  0.071429  0.215072          0\n",
       "4  0.126755  0.171426  0.106468  0.230769  0.071429  0.645949          0"
      ]
     },
     "execution_count": 94,
     "metadata": {},
     "output_type": "execute_result"
    }
   ],
   "source": [
    "X2.head()"
   ]
  },
  {
   "cell_type": "code",
   "execution_count": 95,
   "metadata": {},
   "outputs": [
    {
     "data": {
      "text/html": [
       "<div>\n",
       "<style scoped>\n",
       "    .dataframe tbody tr th:only-of-type {\n",
       "        vertical-align: middle;\n",
       "    }\n",
       "\n",
       "    .dataframe tbody tr th {\n",
       "        vertical-align: top;\n",
       "    }\n",
       "\n",
       "    .dataframe thead th {\n",
       "        text-align: right;\n",
       "    }\n",
       "</style>\n",
       "<table border=\"1\" class=\"dataframe\">\n",
       "  <thead>\n",
       "    <tr style=\"text-align: right;\">\n",
       "      <th></th>\n",
       "      <th>FMR</th>\n",
       "      <th>VALUE</th>\n",
       "      <th>NUNITS</th>\n",
       "      <th>ROOMS</th>\n",
       "      <th>PER</th>\n",
       "      <th>ZINC2</th>\n",
       "    </tr>\n",
       "  </thead>\n",
       "  <tbody>\n",
       "    <tr>\n",
       "      <th>0</th>\n",
       "      <td>0.207687</td>\n",
       "      <td>0.114283</td>\n",
       "      <td>0.007960</td>\n",
       "      <td>0.384615</td>\n",
       "      <td>0.000000</td>\n",
       "      <td>0.120445</td>\n",
       "    </tr>\n",
       "    <tr>\n",
       "      <th>1</th>\n",
       "      <td>0.260902</td>\n",
       "      <td>0.371427</td>\n",
       "      <td>0.007960</td>\n",
       "      <td>0.384615</td>\n",
       "      <td>0.214286</td>\n",
       "      <td>0.819802</td>\n",
       "    </tr>\n",
       "    <tr>\n",
       "      <th>2</th>\n",
       "      <td>0.260902</td>\n",
       "      <td>0.428570</td>\n",
       "      <td>0.007960</td>\n",
       "      <td>0.461538</td>\n",
       "      <td>0.071429</td>\n",
       "      <td>0.186775</td>\n",
       "    </tr>\n",
       "    <tr>\n",
       "      <th>3</th>\n",
       "      <td>0.205100</td>\n",
       "      <td>0.571427</td>\n",
       "      <td>0.007960</td>\n",
       "      <td>0.384615</td>\n",
       "      <td>0.071429</td>\n",
       "      <td>0.215072</td>\n",
       "    </tr>\n",
       "    <tr>\n",
       "      <th>4</th>\n",
       "      <td>0.126755</td>\n",
       "      <td>0.171426</td>\n",
       "      <td>0.106468</td>\n",
       "      <td>0.230769</td>\n",
       "      <td>0.071429</td>\n",
       "      <td>0.645949</td>\n",
       "    </tr>\n",
       "  </tbody>\n",
       "</table>\n",
       "</div>"
      ],
      "text/plain": [
       "        FMR     VALUE    NUNITS     ROOMS       PER     ZINC2\n",
       "0  0.207687  0.114283  0.007960  0.384615  0.000000  0.120445\n",
       "1  0.260902  0.371427  0.007960  0.384615  0.214286  0.819802\n",
       "2  0.260902  0.428570  0.007960  0.461538  0.071429  0.186775\n",
       "3  0.205100  0.571427  0.007960  0.384615  0.071429  0.215072\n",
       "4  0.126755  0.171426  0.106468  0.230769  0.071429  0.645949"
      ]
     },
     "execution_count": 95,
     "metadata": {},
     "output_type": "execute_result"
    }
   ],
   "source": [
    "y2 = df.Burden_Val\n",
    "y2= y2.astype(int)\n",
    "X2 = X2[X2.columns[:-1]]\n",
    "X2 = pd.get_dummies(X2)\n",
    "X2.head()\n"
   ]
  },
  {
   "cell_type": "code",
   "execution_count": 96,
   "metadata": {},
   "outputs": [],
   "source": [
    "X_train2, X_test2, y_train2, y_test2 = train_test_split(X2, y2, random_state=0)"
   ]
  },
  {
   "cell_type": "code",
   "execution_count": 97,
   "metadata": {},
   "outputs": [
    {
     "data": {
      "text/plain": [
       "RandomForestClassifier(bootstrap=True, class_weight=None, criterion='gini',\n",
       "            max_depth=5, max_features='auto', max_leaf_nodes=None,\n",
       "            min_impurity_decrease=0.0, min_impurity_split=None,\n",
       "            min_samples_leaf=1, min_samples_split=2,\n",
       "            min_weight_fraction_leaf=0.0, n_estimators=100, n_jobs=None,\n",
       "            oob_score=False, random_state=None, verbose=0,\n",
       "            warm_start=False)"
      ]
     },
     "execution_count": 97,
     "metadata": {},
     "output_type": "execute_result"
    }
   ],
   "source": [
    "forest2 = RandomForestClassifier(n_estimators=100, max_depth= 5)\n",
    "forest2.fit(X_train2, y_train2)"
   ]
  },
  {
   "cell_type": "code",
   "execution_count": 98,
   "metadata": {},
   "outputs": [
    {
     "data": {
      "text/plain": [
       "0.7809646578579869"
      ]
     },
     "execution_count": 98,
     "metadata": {},
     "output_type": "execute_result"
    }
   ],
   "source": [
    "forest2.score(X_train2, y_train2)"
   ]
  },
  {
   "cell_type": "code",
   "execution_count": 99,
   "metadata": {},
   "outputs": [
    {
     "data": {
      "text/plain": [
       "0.7700612310667097"
      ]
     },
     "execution_count": 99,
     "metadata": {},
     "output_type": "execute_result"
    }
   ],
   "source": [
    "forest2.score(X_test2, y_test2)"
   ]
  },
  {
   "cell_type": "code",
   "execution_count": 100,
   "metadata": {},
   "outputs": [],
   "source": [
    "def plot_feature_importances(model):\n",
    "    n_features = X_train2.shape[1]\n",
    "    plt.figure(figsize=(8,8))\n",
    "    plt.barh(range(n_features), model.feature_importances_, align='center') \n",
    "    plt.yticks(np.arange(n_features), X_train2.columns.values) \n",
    "    plt.xlabel(\"Feature importance\")\n",
    "    plt.ylabel(\"Feature\")"
   ]
  },
  {
   "cell_type": "code",
   "execution_count": 101,
   "metadata": {
    "scrolled": true
   },
   "outputs": [
    {
     "data": {
      "image/png": "[encoded data removed]",
      "text/plain": [
       "<Figure size 576x576 with 1 Axes>"
      ]
     },
     "metadata": {},
     "output_type": "display_data"
    }
   ],
   "source": [
    "plot_feature_importances(forest2)"
   ]
  },
  {
   "cell_type": "code",
   "execution_count": 102,
   "metadata": {},
   "outputs": [
    {
     "name": "stdout",
     "output_type": "stream",
     "text": [
      "0    22344\n",
      "1    22344\n",
      "dtype: int64\n",
      "\n"
     ]
    }
   ],
   "source": [
    "sm = SMOTE(random_state=0)\n",
    "X_train_resampledRF, y_train_resampledRF = sm.fit_sample(X_train_2, y_train_2.ravel())\n",
    "print(pd.Series(y_train_resampledRF).value_counts())\n",
    "print()"
   ]
  },
  {
   "cell_type": "code",
   "execution_count": 103,
   "metadata": {},
   "outputs": [],
   "source": [
    "X_train_res, X_test_res, y_train_res, y_test_res = train_test_split(X_train_resampledRF, y_train_resampledRF, random_state=0)"
   ]
  },
  {
   "cell_type": "code",
   "execution_count": 104,
   "metadata": {},
   "outputs": [
    {
     "data": {
      "text/plain": [
       "RandomForestClassifier(bootstrap=True, class_weight=None, criterion='gini',\n",
       "            max_depth=5, max_features='auto', max_leaf_nodes=None,\n",
       "            min_impurity_decrease=0.0, min_impurity_split=None,\n",
       "            min_samples_leaf=1, min_samples_split=2,\n",
       "            min_weight_fraction_leaf=0.0, n_estimators=100, n_jobs=None,\n",
       "            oob_score=False, random_state=None, verbose=0,\n",
       "            warm_start=False)"
      ]
     },
     "execution_count": 104,
     "metadata": {},
     "output_type": "execute_result"
    }
   ],
   "source": [
    "forest4 = RandomForestClassifier(n_estimators=100, max_depth= 5)\n",
    "forest4.fit(X_train_res, y_train_res)"
   ]
  },
  {
   "cell_type": "code",
   "execution_count": 105,
   "metadata": {},
   "outputs": [
    {
     "data": {
      "text/plain": [
       "0.7891753192505072"
      ]
     },
     "execution_count": 105,
     "metadata": {},
     "output_type": "execute_result"
    }
   ],
   "source": [
    "forest4.score(X_train_res, y_train_res)"
   ]
  },
  {
   "cell_type": "code",
   "execution_count": 106,
   "metadata": {},
   "outputs": [
    {
     "data": {
      "text/plain": [
       "0.7829394915861081"
      ]
     },
     "execution_count": 106,
     "metadata": {},
     "output_type": "execute_result"
    }
   ],
   "source": [
    "forest4.score(X_test_res, y_test_res)"
   ]
  },
  {
   "cell_type": "markdown",
   "metadata": {},
   "source": [
    "Slight increase in the accuracy of model based on resampling. "
   ]
  },
  {
   "cell_type": "markdown",
   "metadata": {},
   "source": [
    "## XGBoost\n",
    "\n",
    "The last classification model to be used is XGBoost. We will start with the original dataset, try the Random Forest dataset, and finally remove features based of the origial XGBoost. The one with highest accuracy wins, and will have SMOTE performed on it. "
   ]
  },
  {
   "cell_type": "code",
   "execution_count": 112,
   "metadata": {},
   "outputs": [],
   "source": [
    "import xgboost as xgb"
   ]
  },
  {
   "cell_type": "code",
   "execution_count": 113,
   "metadata": {},
   "outputs": [],
   "source": [
    "import os\n",
    "os.environ['KMP_DUPLICATE_LIB_OK']='True'\n",
    "from xgboost import XGBClassifier"
   ]
  },
  {
   "cell_type": "markdown",
   "metadata": {},
   "source": [
    "### XGBoost model: Based of the best Random Forest model. "
   ]
  },
  {
   "cell_type": "code",
   "execution_count": 114,
   "metadata": {},
   "outputs": [
    {
     "name": "stdout",
     "output_type": "stream",
     "text": [
      "Training Accuracy: 80.25%\n",
      "Validation accuracy: 79.3%\n"
     ]
    }
   ],
   "source": [
    "clf = xgb.XGBClassifier()\n",
    "clf.fit(X_train_2, y_train_2)\n",
    "training_preds = clf.predict(X_train_2)\n",
    "val_preds = clf.predict(X_test_2)\n",
    "training_accuracy = accuracy_score(y_train_2, training_preds)\n",
    "val_accuracy = accuracy_score(y_test_2, val_preds)\n",
    "\n",
    "print(\"Training Accuracy: {:.4}%\".format(training_accuracy * 100))\n",
    "print(\"Validation accuracy: {:.4}%\".format(val_accuracy * 100))"
   ]
  },
  {
   "cell_type": "code",
   "execution_count": 115,
   "metadata": {},
   "outputs": [],
   "source": [
    "def plot_feature_importances(model):\n",
    "    n_features = X_train_2.shape[1]\n",
    "    plt.figure(figsize=(8,8))\n",
    "    plt.barh(range(n_features), model.feature_importances_, align='center') \n",
    "    plt.yticks(np.arange(n_features), X_train_2.columns.values) \n",
    "    plt.xlabel(\"Feature importance\")\n",
    "    plt.ylabel(\"Feature\")"
   ]
  },
  {
   "cell_type": "code",
   "execution_count": 116,
   "metadata": {},
   "outputs": [
    {
     "data": {
      "image/png": "[encoded data removed]",
      "text/plain": [
       "<Figure size 576x576 with 1 Axes>"
      ]
     },
     "metadata": {},
     "output_type": "display_data"
    }
   ],
   "source": [
    "plot_feature_importances(clf)"
   ]
  },
  {
   "cell_type": "markdown",
   "metadata": {},
   "source": [
    "The final features."
   ]
  },
  {
   "cell_type": "code",
   "execution_count": 117,
   "metadata": {},
   "outputs": [
    {
     "name": "stdout",
     "output_type": "stream",
     "text": [
      "0    22344\n",
      "1    22344\n",
      "dtype: int64\n",
      "\n"
     ]
    }
   ],
   "source": [
    "sm = SMOTE(random_state=0)\n",
    "X_train_resampledXGB, y_train_resampledXGB = sm.fit_sample(X_train_2, y_train_2.ravel())\n",
    "print(pd.Series(y_train_resampledXGB).value_counts())\n",
    "print()"
   ]
  },
  {
   "cell_type": "code",
   "execution_count": 118,
   "metadata": {},
   "outputs": [],
   "source": [
    "X_train_resXGB, X_test_resXGB, y_train_resXGB, y_test_resXGB = train_test_split(X_train_resampledXGB, y_train_resampledXGB, random_state=0)"
   ]
  },
  {
   "cell_type": "code",
   "execution_count": 119,
   "metadata": {},
   "outputs": [
    {
     "name": "stdout",
     "output_type": "stream",
     "text": [
      "Training Accuracy: 81.98%\n",
      "Validation accuracy: 80.8%\n"
     ]
    }
   ],
   "source": [
    "clf = xgb.XGBClassifier()\n",
    "clf.fit(X_train_resXGB, y_train_resXGB)\n",
    "training_preds = clf.predict(X_train_resXGB)\n",
    "val_preds = clf.predict(X_test_resXGB)\n",
    "training_accuracy = accuracy_score(y_train_resXGB, training_preds)\n",
    "val_accuracy = accuracy_score(y_test_resXGB, val_preds)\n",
    "\n",
    "print(\"Training Accuracy: {:.4}%\".format(training_accuracy * 100))\n",
    "print(\"Validation accuracy: {:.4}%\".format(val_accuracy * 100))"
   ]
  },
  {
   "cell_type": "code",
   "execution_count": 120,
   "metadata": {},
   "outputs": [],
   "source": [
    "y_hat_test_xgb = clf.predict(X_test_resXGB)"
   ]
  },
  {
   "cell_type": "code",
   "execution_count": 121,
   "metadata": {},
   "outputs": [
    {
     "name": "stdout",
     "output_type": "stream",
     "text": [
      "Confusion Matrix:\n",
      " [[6127 1369]\n",
      " [1488 3428]]\n"
     ]
    }
   ],
   "source": [
    "from sklearn.metrics import confusion_matrix\n",
    "\n",
    "cnf_matrix_xgb = confusion_matrix(y_hat_test_xgb, y_test_resXGB)\n",
    "print('Confusion Matrix:\\n',cnf_matrix)"
   ]
  },
  {
   "cell_type": "code",
   "execution_count": 122,
   "metadata": {
    "scrolled": true
   },
   "outputs": [
    {
     "data": {
      "text/plain": [
       "<matplotlib.colorbar.Colorbar at 0x1c1f36bdd8>"
      ]
     },
     "execution_count": 122,
     "metadata": {},
     "output_type": "execute_result"
    },
    {
     "data": {
      "image/png": "[encoded data removed]",
      "text/plain": [
       "<Figure size 432x288 with 2 Axes>"
      ]
     },
     "metadata": {},
     "output_type": "display_data"
    }
   ],
   "source": [
    "plt.imshow(cnf_matrix_xgb,  cmap=plt.cm.Blues) #Create the basic matrix.\n",
    "\n",
    "#Add title and Axis Labels\n",
    "plt.title('Confusion Matrix')\n",
    "plt.ylabel('True label')\n",
    "plt.xlabel('Predicted label')\n",
    "\n",
    "\n",
    "class_names = set(y) \n",
    "tick_marks = np.arange(len(class_names))\n",
    "plt.xticks(tick_marks, class_names, rotation=45)\n",
    "plt.yticks(tick_marks, class_names)\n",
    "\n",
    "\n",
    "thresh = cnf_matrix.max() / 2. #Used for text coloring below\n",
    "#Here we iterate through the confusion matrix and append labels to our visualization.\n",
    "for i, j in itertools.product(range(cnf_matrix.shape[0]), range(cnf_matrix.shape[1])):\n",
    "        plt.text(j, i, cnf_matrix[i, j],\n",
    "                 horizontalalignment=\"center\",\n",
    "                 color=\"white\" if cnf_matrix[i, j] > thresh else \"black\")\n",
    "\n",
    "\n",
    "plt.colorbar()"
   ]
  },
  {
   "cell_type": "code",
   "execution_count": null,
   "metadata": {},
   "outputs": [],
   "source": []
  }
 ],
 "metadata": {
  "kernelspec": {
   "display_name": "learn-env",
   "language": "python",
   "name": "learn-env"
  },
  "language_info": {
   "codemirror_mode": {
    "name": "ipython",
    "version": 3
   },
   "file_extension": ".py",
   "mimetype": "text/x-python",
   "name": "python",
   "nbconvert_exporter": "python",
   "pygments_lexer": "ipython3",
   "version": "3.6.6"
  }
 },
 "nbformat": 4,
 "nbformat_minor": 2
}
